{
  "nbformat": 4,
  "nbformat_minor": 0,
  "metadata": {
    "colab": {
      "provenance": [],
      "authorship_tag": "ABX9TyPshhVHcUrbQJyJsNblBd8D",
      "include_colab_link": true
    },
    "kernelspec": {
      "name": "python3",
      "display_name": "Python 3"
    },
    "language_info": {
      "name": "python"
    }
  },
  "cells": [
    {
      "cell_type": "markdown",
      "metadata": {
        "id": "view-in-github",
        "colab_type": "text"
      },
      "source": [
        "<a href=\"https://colab.research.google.com/github/Siddhantg2002/Projects/blob/main/Web_Scraping.ipynb\" target=\"_parent\"><img src=\"https://colab.research.google.com/assets/colab-badge.svg\" alt=\"Open In Colab\"/></a>"
      ]
    },
    {
      "cell_type": "markdown",
      "source": [
        "# URL_37\n"
      ],
      "metadata": {
        "id": "mIqn1oDUps1Q"
      }
    },
    {
      "cell_type": "code",
      "source": [
        "pip install lxml"
      ],
      "metadata": {
        "colab": {
          "base_uri": "https://localhost:8080/"
        },
        "id": "P8s-0tcmDm2t",
        "outputId": "94d55cea-000d-4ab2-9b38-83058fa54d62"
      },
      "execution_count": null,
      "outputs": [
        {
          "output_type": "stream",
          "name": "stdout",
          "text": [
            "Looking in indexes: https://pypi.org/simple, https://us-python.pkg.dev/colab-wheels/public/simple/\n",
            "Requirement already satisfied: lxml in /usr/local/lib/python3.9/dist-packages (4.9.2)\n"
          ]
        }
      ]
    },
    {
      "cell_type": "code",
      "execution_count": null,
      "metadata": {
        "id": "rQHFxm6SCnGa"
      },
      "outputs": [],
      "source": [
        "from bs4 import BeautifulSoup \n",
        "import urllib.request\n",
        "from IPython.display import HTML \n",
        "import re"
      ]
    },
    {
      "cell_type": "code",
      "source": [
        "r = urllib.request.urlopen('https://insights.blackcoffer.com/ai-in-healthcare-to-improve-patient-outcomes/').read()\n",
        "soup = BeautifulSoup(r, \"lxml\")\n",
        "type (soup)"
      ],
      "metadata": {
        "colab": {
          "base_uri": "https://localhost:8080/"
        },
        "id": "4kH1Xb-xDFGT",
        "outputId": "48ab57f8-3830-4901-976f-b394b750c7b8"
      },
      "execution_count": null,
      "outputs": [
        {
          "output_type": "execute_result",
          "data": {
            "text/plain": [
              "bs4.BeautifulSoup"
            ]
          },
          "metadata": {},
          "execution_count": 3
        }
      ]
    },
    {
      "cell_type": "code",
      "source": [
        "my_article_1=soup.article.get_text()\n",
        "print(my_article_1)"
      ],
      "metadata": {
        "colab": {
          "base_uri": "https://localhost:8080/"
        },
        "id": "RZuBCSXlETdV",
        "outputId": "b7d5704d-db57-4d77-c9e9-8f1581aee474"
      },
      "execution_count": null,
      "outputs": [
        {
          "output_type": "stream",
          "name": "stdout",
          "text": [
            "\n",
            "\n",
            "\n",
            "\n",
            "\n",
            "HomeWhat We ThinkAI in healthcare to Improve Patient Outcomes\n",
            "\n",
            "\n",
            "Artificial IntelligenceData VisualizationMachine LearningBig DataWhat We Think\n",
            "AI in healthcare to Improve Patient Outcomes\n",
            "\n",
            "By Ajay Bidyarthy\n",
            "June 26, 2021 \n",
            "0\n",
            "\n",
            "24216\n",
            "\n",
            "\n",
            "\n",
            "\n",
            "Share\n",
            "FacebookTwitterPinterestWhatsApp\n",
            "\n",
            "\n",
            "\n",
            "\n",
            "\n",
            "\n",
            "\n",
            "\n",
            "Introduction\n",
            "“If anything kills over 10 million people in the next few decades, it will be a highly infectious virus rather than a war. Not missiles but microbes.” Bill Gates’s remarks at a TED conference in 2014, right after the world had avoided the Ebola outbreak. When the new, unprecedented, invisible virus hit us, it met an overwhelmed and unprepared healthcare system and oblivious population. This public health emergency demonstrated our lack of scientific consideration and underlined the alarming need for robust innovations in our health and medical facilities. For the past few years, artificial intelligence has proven to be of tangible potential in the healthcare sectors, clinical practices, translational medical and biomedical research.\n",
            "After the first case was detected in China on December 31st 2019, it was an AI program developed by BlueDot that alerted the world about the pandemic. It was quick to realise AI’s ability to analyse large chunks of data could help in detecting patterns and identifying and tracking the possible carriers of the virus.\n",
            "Many tracing apps use AI to keep tabs on the people who have been infected and prevent the risk of cross-infection by using AI algorithms that can track patterns and extract some features to classify or categorise them.\n",
            "So how does AI do that?\n",
            "IBM Watson, a sophisticated AI that works on cloud computing and natural language processing, has prominently contributed to the healthcare sector on a global level. Being a conversational AI, since 2013, Watson has helped in recommending treatments to patients suffering from cancer to ensure that they get the best treatment at optimum costs.\n",
            "\n",
            "Researchers at Google Inc. showed that an AI system can be trained on thousands of images to achieve physician-level sensitivity.\n",
            "By identifying the molecular patterns associated with disease status and its subtypes, gene expression, and protein abundance levels, machine learning methods can detect fatal diseases like cancer at an early stage. Machine Learning (ML) techniques focus mainly on analyzing structured data, which can further help in clustering patients’ traits and infer the probability of disease outcomes. Since patient traits mainly include masses of data relating to age, gender, disease history, disease-specific data like diagnostic imaging and gene expressions, etc, ML can extract features from these data inputs by constructing data analytical algorithms.\n",
            "ML algorithms are either supervised or unsupervised. Unsupervised learning helps in extracting features and clustering similar features together that further leads to early detection of diseases. Clustering and principal component analysis enable grouping or clustering of similar traits together that are further used to maximize or minimize the similarity between the patients within or between the clusters. Since patient traits are recorded in multiple dimensions, such as genes, principal component analysis(PCA) creates the apparatus to reduce these dimensions which humans could have not done alone.\n",
            "Supervised learning considers the outcomes of the subjects together with the traits, and further correlates the inputs with the outputs to predict the probability of getting a particular clinical event, expected value of a disease level or expected survival time, or risk of Down’s syndrome.\n",
            "Biomarker panels that are mostly used to detect ovarian cancer, have outperformed the conventional statistical methods due to machine learning. In addition to this, the use of EHRs and Bayesian networks, which are a part of supervised machine learning algorithms, can predict clinical outcomes and mortality respectively.\n",
            "Unstructured data such as clinical notes and texts are converted into machine-readable structured data with the help of natural language processing(NLP). NLP works with two components: text processing and classification. Text processing helps in identifying a series of disease-relevant keywords in clinical notes and then through classification are further categorized into normal and abnormal cases. Chest screening through ML and NLP has helped find abnormalities in the lungs and provide treatment to covid patients. Healthcare organizations use NLP-based chatbots to increase interactions with patients, keeping their mental health and wellness in check.\n",
            "Deep learning is a modern extension of the classical neural network techniques which helps explore more complex non-linear patterns in data, using algorithms like convolution neural network, recurrent neural network, deep belief network, and deep neural network which enables more accurate clinical prediction. When it comes to genome interpretation, deep neural networks surpass the conventional methods of logistics regression and support vector machines.\n",
            "Sepsis Watch is an AI system trained in deep learning algorithms that holds the capability to analyze over 32 million data points to create a patient’s risk score and identify the early stages of sepsis.\n",
            "Another method known as the Learning-based Optimization of the Under Sampling Pattern( LOUPE) is based on integrating full resolution MRI scans with the convolutional neural network algorithm, which helps in creating more accurate reconstructions.\n",
            "Robotic surgery is widely considered in most delicate surgeries like gynaecology and prostate surgery. Even after striking the right balance between human decisions and AI precision, robotic surgery reduces surgeon efficiency as they have to be manually operated through a console. Thus, autonomous robotic surgery is on the rise with inventions such as robotic silicon fingers that mimic the sense of touch that surgeons need to identify organs, cut tissues, etc., or robotic catheters that can navigate whether it is touching blood, tissue, or valve.\n",
            "Researchers at Children’s National Hospital, Washington have already developed an AI called Smart Tissue Autonomous Robot (STAR), which performs a colon anastomosis on its own with the help of an ML-powered suturing tool, that automatically detects the patient’s breathing pattern to apply suture at the correct point.\n",
            "An image of STAR during surgery.\n",
            "Cloud computing in healthcare has helped in retrieving and sharing medical records safely with a reduction in maintenance costs. Through this technology doctors and various healthcare workers have access to detailed patient data that helps in speeding up analysis ultimately leading to better care in the form of more accurate information, medications, and therapies.\n",
            "How can It help in Biomedical research?\n",
            "Since AI can analyze literature beyond readability, it can be used to concise biomedical research. With the help of ML algorithms and NLP, AI can accelerate screening and indexing of biomedical research, by ranking the literature of interest which allows researchers to formulate and test scientific hypotheses far more precisely and quickly. Taking it to the next level, AI systems like the computational modelling assistant (CMA) helps researchers to construct simulation models from the concepts they have in mind. Such innovations have majorly contributed to topics such as tumour suppressor mechanisms and protein-protein interaction information extraction.\n",
            "AI as precision medicine\n",
            "Since precision medicine focuses on healthcare interventions to individuals or groups of patients based on their profile, the various AI devices pave the way to practice it more efficiently. With the help of ML, complex algorithms like large datasets can be used to predict and create an optimal treatment strategy.\n",
            "Deep learning and neural networks can be used to process data in healthcare apps and keep a close watch on the patient’s emotional state, food intake, or health monitoring. \n",
            "“Omics” refers to the collective technologies that help in exploring the roles, relationships of various branches ending with the suffix “omics” such as genomics, proteomics, etc. Omics-based tests based on machine learning algorithms help find correlations and predict treatment responses, ultimately creating personalized treatments for individual patients. \n",
            "How it helps in psychology and neuro patients\n",
            "For psychologists studying creativity,  AI is promising new classes of experiments that are developing data structures and programs and exploring novel theories on a new horizon. Studies show that  AI can conduct therapy sessions, e-therapy sessions, and assessments autonomously, also assisting human practitioners before, during, or after sessions. The Detection and Computational Analysis of Psychological Signal project uses ML, computer vision, and NLP to analyze language, physical gestures, and social signals to identify cues for human distress. This ground-breaking technology assesses soldiers returning from combat and recognizes those who require further mental health support. In the future, it will combine data captured during face-to-face interviews with information on sleeping, eating, and online behaviours for a complete patient view.\n",
            "Stroke identification\n",
            "Stroke is another frequently occurring disease that affects more than 500 million people worldwide. Thrombus,  in the vessel cerebral infarction is the major (about 85%) cause of stroke occurrence. In recent years, AI techniques have been used in numerous stroke-related studies as early detection and timely treatment along with efficient outcome prediction can help solve the problem. With AI at our disposal, large amounts of data with rich information, more complications and real-life clinical questions can be addressed in this arena. Currently, two ML algorithms- genetic fuzzy finite state machine and PCA were implemented to build a model building solution. These include a human activity recognition stage and a stroke onset detection stage. An alert stroke message is activated as soon as a movement significantly different from the normal pattern is recorded. ML methods have been applied to neuroimaging data to assist disease evaluation and predicting stroke treatment for the diagnosis.\n",
            "Patient Monitoring\n",
            "Today, the market for AI-based patient monitoring is impressive and monetarily enticing. It is evolving with artificial sensors, smart technologies and explores everything from brain-computer interfaces to nanorobotics. Companies with their smart-watches have engaged people to perform remote monitoring even when they are not “patients”. An obvious place to start is with wearable and embedded sensors, glucose monitors, pulse monitors, oximeters, and ECG monitors. With patient monitoring becoming crucial, AI finds numerous applications in chronic conditions, intensive care units, operating rooms, emergency rooms, and cardiac wards where timeless clinical decision-making can be measured in seconds. More advances have started to gain traction like smart prosthetics and implants. These play an impeccable role in patient management post-surgery or rehabilitation. Demographics, laboratory results and vital signs can also be used to predict cardiac arrest, transfer into the intensive care unit, or even death. In addition, an interpretable machine-learning model can assist anesthesiologists in predicting hypoxaemia events during surgery. This suggests that with deep-learning algorithms, raw patient-monitoring data could be better used to avoid information overload and alert overload while enabling more accurate clinical prediction and timely decision-making.\n",
            "\n",
            " Conclusion\n",
            "Considering the vast range of tasks that an AI can do, it is evident that it holds deep potential in improving patient outcomes to skyrocketing levels. Using sophisticated algorithms AI can bring a revolution in the healthcare sector. Even after facing challenges like whether the technology will be able to deliver the promises, ethical measures, training physicians to use it, standard regulations etc, the role of AI in transforming the clinical practices cannot be ignored. The biggest challenge is the integration of AI in daily practice. All of these can be overcome and within that period the technologies will mature making the system far more enhanced and effective.\n",
            "Blackcoffer Insights 29: Sanskriti Sunderum and Aayushi Nauhwar, SRCC, Delhi University\n",
            "\n",
            "TagsAIalgorithmCovidHealthcareMlpandemicpatient outcomes\n",
            "\n",
            "\n",
            "Share\n",
            "FacebookTwitterPinterestWhatsApp\n",
            "\n",
            "\n",
            "\n",
            "\n",
            "Previous articleWhat if the Creation is Taking Over the Creator?Next articleFuture of AI and Machine Roles in the Medical Sector\n",
            "\n",
            "Ajay Bidyarthy\n",
            "RELATED ARTICLES\n",
            "\n",
            "\n",
            "\n",
            "What We Think  \n",
            "\n",
            "Rise of telemedicine and its Impact on Livelihood by 2040\n",
            "\n",
            "\n",
            "January 2, 2023 \n",
            "\n",
            "\n",
            "\n",
            "\n",
            "\n",
            "\n",
            "\n",
            "What We Think  \n",
            "\n",
            "Rise of e-health and its impact on humans by the year 2030\n",
            "\n",
            "\n",
            "January 2, 2023 \n",
            "\n",
            "\n",
            "\n",
            "\n",
            "\n",
            "\n",
            "\n",
            "What We Think  \n",
            "\n",
            "Rise of e-health and its impact on humans by the year 2030\n",
            "\n",
            "\n",
            "January 2, 2023 \n",
            "\n",
            "\n",
            "\n",
            "\n",
            "\n",
            "\n",
            "\n",
            "\n",
            "\n",
            "\n",
            "\n",
            "Most Popular\n",
            "\n",
            "\n",
            "\n",
            " \n",
            "\n",
            "Rise of telemedicine and its Impact on Livelihood by 2040\n",
            "\n",
            "\n",
            "January 2, 2023 \n",
            "\n",
            "\n",
            "\n",
            "\n",
            "\n",
            "\n",
            "\n",
            " \n",
            "\n",
            "Rise of e-health and its impact on humans by the year 2030\n",
            "\n",
            "\n",
            "January 2, 2023 \n",
            "\n",
            "\n",
            "\n",
            "\n",
            "\n",
            "\n",
            "\n",
            " \n",
            "\n",
            "Rise of e-health and its impact on humans by the year 2030\n",
            "\n",
            "\n",
            "January 2, 2023 \n",
            "\n",
            "\n",
            "\n",
            "\n",
            "\n",
            "\n",
            "\n",
            " \n",
            "\n",
            "Rise of telemedicine and its Impact on Livelihood by 2040\n",
            "\n",
            "\n",
            "January 2, 2023 \n",
            "\n",
            "\n",
            "\n",
            "\n",
            "Load more\n",
            "Recent Comments\n",
            "\n",
            "Chatbot and conversation agent Transform the experience and engagement - AI+ NEWS on Chatbot and conversation agent Transform the experience and engagement\n",
            " \n",
            "\n",
            "Chatbot and conversation agent Transform the experience and engagement - Blackcoffer Insights on Marketing Analytics Solution, a Big Data Approach\n",
            "    \n"
          ]
        }
      ]
    },
    {
      "cell_type": "code",
      "source": [
        "my_article_1=soup.article.get_text()[0:12500]\n",
        "print(my_article_1)"
      ],
      "metadata": {
        "colab": {
          "base_uri": "https://localhost:8080/"
        },
        "id": "bwsV0HCWGS0f",
        "outputId": "803abfd9-fc07-4b5c-e65c-49c5728c0885"
      },
      "execution_count": null,
      "outputs": [
        {
          "output_type": "stream",
          "name": "stdout",
          "text": [
            "\n",
            "\n",
            "\n",
            "\n",
            "\n",
            "HomeWhat We ThinkAI in healthcare to Improve Patient Outcomes\n",
            "\n",
            "\n",
            "Artificial IntelligenceData VisualizationMachine LearningBig DataWhat We Think\n",
            "AI in healthcare to Improve Patient Outcomes\n",
            "\n",
            "By Ajay Bidyarthy\n",
            "June 26, 2021 \n",
            "0\n",
            "\n",
            "24216\n",
            "\n",
            "\n",
            "\n",
            "\n",
            "Share\n",
            "FacebookTwitterPinterestWhatsApp\n",
            "\n",
            "\n",
            "\n",
            "\n",
            "\n",
            "\n",
            "\n",
            "\n",
            "Introduction\n",
            "“If anything kills over 10 million people in the next few decades, it will be a highly infectious virus rather than a war. Not missiles but microbes.” Bill Gates’s remarks at a TED conference in 2014, right after the world had avoided the Ebola outbreak. When the new, unprecedented, invisible virus hit us, it met an overwhelmed and unprepared healthcare system and oblivious population. This public health emergency demonstrated our lack of scientific consideration and underlined the alarming need for robust innovations in our health and medical facilities. For the past few years, artificial intelligence has proven to be of tangible potential in the healthcare sectors, clinical practices, translational medical and biomedical research.\n",
            "After the first case was detected in China on December 31st 2019, it was an AI program developed by BlueDot that alerted the world about the pandemic. It was quick to realise AI’s ability to analyse large chunks of data could help in detecting patterns and identifying and tracking the possible carriers of the virus.\n",
            "Many tracing apps use AI to keep tabs on the people who have been infected and prevent the risk of cross-infection by using AI algorithms that can track patterns and extract some features to classify or categorise them.\n",
            "So how does AI do that?\n",
            "IBM Watson, a sophisticated AI that works on cloud computing and natural language processing, has prominently contributed to the healthcare sector on a global level. Being a conversational AI, since 2013, Watson has helped in recommending treatments to patients suffering from cancer to ensure that they get the best treatment at optimum costs.\n",
            "\n",
            "Researchers at Google Inc. showed that an AI system can be trained on thousands of images to achieve physician-level sensitivity.\n",
            "By identifying the molecular patterns associated with disease status and its subtypes, gene expression, and protein abundance levels, machine learning methods can detect fatal diseases like cancer at an early stage. Machine Learning (ML) techniques focus mainly on analyzing structured data, which can further help in clustering patients’ traits and infer the probability of disease outcomes. Since patient traits mainly include masses of data relating to age, gender, disease history, disease-specific data like diagnostic imaging and gene expressions, etc, ML can extract features from these data inputs by constructing data analytical algorithms.\n",
            "ML algorithms are either supervised or unsupervised. Unsupervised learning helps in extracting features and clustering similar features together that further leads to early detection of diseases. Clustering and principal component analysis enable grouping or clustering of similar traits together that are further used to maximize or minimize the similarity between the patients within or between the clusters. Since patient traits are recorded in multiple dimensions, such as genes, principal component analysis(PCA) creates the apparatus to reduce these dimensions which humans could have not done alone.\n",
            "Supervised learning considers the outcomes of the subjects together with the traits, and further correlates the inputs with the outputs to predict the probability of getting a particular clinical event, expected value of a disease level or expected survival time, or risk of Down’s syndrome.\n",
            "Biomarker panels that are mostly used to detect ovarian cancer, have outperformed the conventional statistical methods due to machine learning. In addition to this, the use of EHRs and Bayesian networks, which are a part of supervised machine learning algorithms, can predict clinical outcomes and mortality respectively.\n",
            "Unstructured data such as clinical notes and texts are converted into machine-readable structured data with the help of natural language processing(NLP). NLP works with two components: text processing and classification. Text processing helps in identifying a series of disease-relevant keywords in clinical notes and then through classification are further categorized into normal and abnormal cases. Chest screening through ML and NLP has helped find abnormalities in the lungs and provide treatment to covid patients. Healthcare organizations use NLP-based chatbots to increase interactions with patients, keeping their mental health and wellness in check.\n",
            "Deep learning is a modern extension of the classical neural network techniques which helps explore more complex non-linear patterns in data, using algorithms like convolution neural network, recurrent neural network, deep belief network, and deep neural network which enables more accurate clinical prediction. When it comes to genome interpretation, deep neural networks surpass the conventional methods of logistics regression and support vector machines.\n",
            "Sepsis Watch is an AI system trained in deep learning algorithms that holds the capability to analyze over 32 million data points to create a patient’s risk score and identify the early stages of sepsis.\n",
            "Another method known as the Learning-based Optimization of the Under Sampling Pattern( LOUPE) is based on integrating full resolution MRI scans with the convolutional neural network algorithm, which helps in creating more accurate reconstructions.\n",
            "Robotic surgery is widely considered in most delicate surgeries like gynaecology and prostate surgery. Even after striking the right balance between human decisions and AI precision, robotic surgery reduces surgeon efficiency as they have to be manually operated through a console. Thus, autonomous robotic surgery is on the rise with inventions such as robotic silicon fingers that mimic the sense of touch that surgeons need to identify organs, cut tissues, etc., or robotic catheters that can navigate whether it is touching blood, tissue, or valve.\n",
            "Researchers at Children’s National Hospital, Washington have already developed an AI called Smart Tissue Autonomous Robot (STAR), which performs a colon anastomosis on its own with the help of an ML-powered suturing tool, that automatically detects the patient’s breathing pattern to apply suture at the correct point.\n",
            "An image of STAR during surgery.\n",
            "Cloud computing in healthcare has helped in retrieving and sharing medical records safely with a reduction in maintenance costs. Through this technology doctors and various healthcare workers have access to detailed patient data that helps in speeding up analysis ultimately leading to better care in the form of more accurate information, medications, and therapies.\n",
            "How can It help in Biomedical research?\n",
            "Since AI can analyze literature beyond readability, it can be used to concise biomedical research. With the help of ML algorithms and NLP, AI can accelerate screening and indexing of biomedical research, by ranking the literature of interest which allows researchers to formulate and test scientific hypotheses far more precisely and quickly. Taking it to the next level, AI systems like the computational modelling assistant (CMA) helps researchers to construct simulation models from the concepts they have in mind. Such innovations have majorly contributed to topics such as tumour suppressor mechanisms and protein-protein interaction information extraction.\n",
            "AI as precision medicine\n",
            "Since precision medicine focuses on healthcare interventions to individuals or groups of patients based on their profile, the various AI devices pave the way to practice it more efficiently. With the help of ML, complex algorithms like large datasets can be used to predict and create an optimal treatment strategy.\n",
            "Deep learning and neural networks can be used to process data in healthcare apps and keep a close watch on the patient’s emotional state, food intake, or health monitoring. \n",
            "“Omics” refers to the collective technologies that help in exploring the roles, relationships of various branches ending with the suffix “omics” such as genomics, proteomics, etc. Omics-based tests based on machine learning algorithms help find correlations and predict treatment responses, ultimately creating personalized treatments for individual patients. \n",
            "How it helps in psychology and neuro patients\n",
            "For psychologists studying creativity,  AI is promising new classes of experiments that are developing data structures and programs and exploring novel theories on a new horizon. Studies show that  AI can conduct therapy sessions, e-therapy sessions, and assessments autonomously, also assisting human practitioners before, during, or after sessions. The Detection and Computational Analysis of Psychological Signal project uses ML, computer vision, and NLP to analyze language, physical gestures, and social signals to identify cues for human distress. This ground-breaking technology assesses soldiers returning from combat and recognizes those who require further mental health support. In the future, it will combine data captured during face-to-face interviews with information on sleeping, eating, and online behaviours for a complete patient view.\n",
            "Stroke identification\n",
            "Stroke is another frequently occurring disease that affects more than 500 million people worldwide. Thrombus,  in the vessel cerebral infarction is the major (about 85%) cause of stroke occurrence. In recent years, AI techniques have been used in numerous stroke-related studies as early detection and timely treatment along with efficient outcome prediction can help solve the problem. With AI at our disposal, large amounts of data with rich information, more complications and real-life clinical questions can be addressed in this arena. Currently, two ML algorithms- genetic fuzzy finite state machine and PCA were implemented to build a model building solution. These include a human activity recognition stage and a stroke onset detection stage. An alert stroke message is activated as soon as a movement significantly different from the normal pattern is recorded. ML methods have been applied to neuroimaging data to assist disease evaluation and predicting stroke treatment for the diagnosis.\n",
            "Patient Monitoring\n",
            "Today, the market for AI-based patient monitoring is impressive and monetarily enticing. It is evolving with artificial sensors, smart technologies and explores everything from brain-computer interfaces to nanorobotics. Companies with their smart-watches have engaged people to perform remote monitoring even when they are not “patients”. An obvious place to start is with wearable and embedded sensors, glucose monitors, pulse monitors, oximeters, and ECG monitors. With patient monitoring becoming crucial, AI finds numerous applications in chronic conditions, intensive care units, operating rooms, emergency rooms, and cardiac wards where timeless clinical decision-making can be measured in seconds. More advances have started to gain traction like smart prosthetics and implants. These play an impeccable role in patient management post-surgery or rehabilitation. Demographics, laboratory results and vital signs can also be used to predict cardiac arrest, transfer into the intensive care unit, or even death. In addition, an interpretable machine-learning model can assist anesthesiologists in predicting hypoxaemia events during surgery. This suggests that with deep-learning algorithms, raw patient-monitoring data could be better used to avoid information overload and alert overload while enabling more accurate clinical prediction and timely decision-making.\n",
            "\n",
            " Conclusion\n",
            "Considering the vast range of tasks that an AI can do, it is evident that it holds deep potential in improving patient outcomes to skyrocketing levels. Using sophisticated algorithms AI can bring a revolution in the healthcare sector. Even after facing challenges like whether the technology will be able to deliver the promises, ethical measures, training physicians to use it, standard regulations etc, the role of AI in transforming the clinical practices cannot be ignored. The biggest challenge is the integration of AI in daily practice. All of these can be overcome and within that period the technologies will mature making the system far more enhanced and effective.\n",
            "Blackcoffer Insights 29: Sanskriti Sunderum and Aayushi Nauhwar, SRCC, Delhi University\n",
            "\n",
            "TagsAIalgorithmCovidHealthcareMl\n"
          ]
        }
      ]
    },
    {
      "cell_type": "code",
      "source": [
        "file = open ('URL_37.txt','w')\n",
        "file.write(my_article_1)\n",
        "file.close ()"
      ],
      "metadata": {
        "id": "17UBXBUhLNAU"
      },
      "execution_count": null,
      "outputs": []
    },
    {
      "cell_type": "markdown",
      "source": [
        "# URL_38\n"
      ],
      "metadata": {
        "id": "ac8dzOuTpzVL"
      }
    },
    {
      "cell_type": "code",
      "source": [
        "r = urllib.request.urlopen('https://insights.blackcoffer.com/what-if-the-creation-is-taking-over-the-creator/').read()\n",
        "soup = BeautifulSoup(r, \"lxml\")\n",
        "type (soup)"
      ],
      "metadata": {
        "colab": {
          "base_uri": "https://localhost:8080/"
        },
        "id": "6Z7ux7jLpqml",
        "outputId": "f692e63a-788a-4f04-85af-a1c25d29b83c"
      },
      "execution_count": null,
      "outputs": [
        {
          "output_type": "execute_result",
          "data": {
            "text/plain": [
              "bs4.BeautifulSoup"
            ]
          },
          "metadata": {},
          "execution_count": 7
        }
      ]
    },
    {
      "cell_type": "code",
      "source": [
        "my_article_2=soup.article.get_text()[0:8800]\n",
        "print(my_article_2)"
      ],
      "metadata": {
        "colab": {
          "base_uri": "https://localhost:8080/"
        },
        "id": "iSaPRD1FqcOF",
        "outputId": "0dc3af73-c3ae-4370-910f-16ec1a73e52d"
      },
      "execution_count": null,
      "outputs": [
        {
          "output_type": "stream",
          "name": "stdout",
          "text": [
            "\n",
            "\n",
            "\n",
            "Home  What We Think  What if the Creation is Taking Over the Creator?\n",
            "\n",
            "\n",
            "\n",
            "Data ScienceArtificial IntelligenceBig DataBusiness AnalyticsMachine LearningWhat We Think What if the Creation is Taking Over the Creator?\n",
            "\n",
            "By Ajay Bidyarthy -   June 25, 2021 11589 \n",
            "\n",
            "\n",
            "\n",
            "\n",
            "\n",
            "\n",
            "\n",
            "\n",
            "\n",
            "\n",
            "\n",
            "\n",
            "\n",
            "\n",
            "\n",
            "FacebookTwitterPinterestWhatsApp\n",
            "\n",
            "\n",
            "\n",
            "Human minds, a fascination in itself carrying the potential of tinkering nature with the pixie dust intelligence, creating and solving the mysteries and wonders with anything but admiration. However, no matter how captivating a human mind can be, it could sometimes be appalled. It could be the hunger or maybe the desire to want more, to go beyond and unravel the limitations, or maybe something like pure greed. Humans have never stopped and always keep evolving when it comes to intelligence and this is what makes them the supreme.\n",
            "Intelligence calls out for supremacy and so, what if there was to evolve something that opposed a challenge to the very human minds, to their capabilities while making them question their own importance among themselves? Artificial Intelligence came as a revolution, havoc when it first came to the light. The concept of making machines does work on their own, like granting machines –The Intelligence.\n",
            "The idea of making machines work like humans came back in the 19s. Back then people didn’t believe in such a thing as making a non-living thing work, think, and carry tasks on its own, not to mention, to actually surpass humans themselves in those skills. The facts are it did. By 1997. The greatest chess player, Garry Kasparov was defeated in a chess game by a machine and this is where exactly, a top skilled human lost to a mere machine created by another who by himself could’ve never defeated him. It was a rule of power, of betterment, of skills, and the granted supremacy. Were AI and Machines just tools? Equipment?  Something that helped an unskilled person with his mind and intelligence creates something that could do the skilled work for him with perfection and precision? Well initially it was, however, as time passed as humans got drawn to the puzzle of AI, a lot changed. Human research went deeper and deeper and as a result, the machines evolved with it.\n",
            "At present, AI & Machines is a growing field. As it develops and improves, it has become a part of the industrial revolution. In industries, most of the laborious work that was once taken care of by humans was now replaced by machines. Naturally, with the evolution in machines, its precision, mass productivity, quality control, time efficiencies, and all the other factors made it a better choice. A choice over humans.\n",
            "This led to fear, a fear of a not-so-distant future, a future where maybe machines will be so evolved that they’ll take over the need of a human employee leading to unemployment. With the population increase around the world, it became the new tech threat for the labor market. Then again… how true is it? Does AI really oppose a threat? Will adapting to technology make millions of people lose their jobs? Will it lead to mass unemployment? Will the machines really surpass humans? Will, the creation take over the creator?\n",
            "No matter how fearful the future with AI may seem, in reality, it is not that scary. Truth is AI is the present reality, it is the key that holds the power to unlock a whole next level of human evolution. Technology is growing. There was a time where technology was just an idea, but today that idea has been implemented, it’s working and is carried out. Nobody could stop the advancement and growth of Artificial Intelligence, it’s a wave that is already flowing and we as the present generation and the generations to come to have to learn, to learn to swim in this flow and avoid drowning.\n",
            "Many jobs will be replaced by machines, as AI evolves it’ll keep challenging human minds and their skills. With the present COVID 19 situation, contactless cashiers to robots delivering packages have already taken over the usual routine tasks. The jobs of Secretaries, Schedulers, and book-keeper are at risk too. Manufacturing units, agriculture, food services, retail, transportation & logistic, and hospitality are all a part of the AI-affected automation. At an estimation, it is said that around 20 million jobs, especially including manufacturing will be lost to robots. As AI, robotics, 3D printing, and genetics make their way in, even the architects, medical docs, and music composers feel threatened by technology. Making us question that will AI even edge us out of our brain jobs too? Now that can be terrifying.\n",
            "However, as much as machines will be replacing few jobs, they’ll also be creating new jobs.  With the economic growth, innovation, and investment around 133 million jobs are said to be generated. These newly enhanced jobs are to create benefits and amplify one’s creativity, strategy, and entrepreneurial skills. So what is the catch?\n",
            "Well, it’s the skills. Even though AI is creating 3 times more jobs than it is destroying, it’s the skills that count. AI surged in new job opportunities, opportunities like Senior Data Scientist, Mobile Application Developer, and SEO specialist. These jobs were once never heard of but now with AI it’s born, however, to do these jobs or for its qualification, one needs high-level skills and to acquire those skills can be an expensive and time-consuming task. The future generation might be able to cope up with it but the real struggle is to be faced by the present two generations. It’s the vulnerability between the skill gap and unemployment and the youths are the ones to be crushed the most.\n",
            "Therefore, as the advancement of AI becomes inevitable there remains no choice but to adapt, learn, equip ourselves and grow with it. The companies have to work together to build an AI-ready workplace. They should collaborate with the government, educators, and non-profit organizations and work together to bring out policies that could help understand the technologies’ impacts faster while also providing the employees some security. The economic and business planning should be made considerable for minimizing the impact on local jobs and properly maximizing the opportunities.\n",
            "The employees should be provided with proper tools to carry along with the new opportunities while acquiring AI-based skills for their day-to-day work. New skills should be identified and implemented for the upskilling and continual learning initiatives. Employees will have to maximize their Robotic Quotient and learn core skills. They’ll have to adapt to new working models and understand their roles in the coming future. \n",
            "Howsoever, it’s not like AI will totally take over control, even though AI proves to be a better choice, it still has its limitations at present. First, it’s expensive, secondly, manufacturing machines in bulk is not good for the environment. Machines are also very high maintenance, therefore human labor will often come cheaper and so will be considered over machines. Underdeveloped countries will find it hard to equip their people with the upskilling and reskilling required for AI workplace and so for AI to play a role in those countries, might take years. AI can also be risky and unethical, as it’s hard to figure out who to be held responsible for in cases where an AI went wrong.\n",
            "No matter, how advanced AI gets, there are some skills where humans will always have an upper hand i.e., soft skills. Skills like teamwork, communication, creativity, and critical thinking are something that AI hasn’t been able to beat us up to yet and so the value of creativity, leadership, and emotional intelligence has increased. Although, with machines coming in between humans causing the lack of human-to-human interaction, the humans seem to fade away a little.\n",
            "With this era, comes the need for good leaders. Leaders who are capable of handling both machines and humans together, the ones who are organized enough to manage the skilled and the unskilled employees while providing the unskilled trainees with proper training. Leaders who hold profound soft skills and encourage teamwork while working along with machines. The ones who are patient, calm, and optimized.  \n",
            "In conclusion, yes AI and machines are going to be very challenging but there’s nothing humans haven’t overcome. Adaptation and up-gradation are going to be the primary factor for survival. As we witness the onset of the 4th industrial revolution, let’s buckle up our seats and race along the highway with the essential fuels (skills) so as to not let ourselves eliminated. After all, this is an unending race with infinity as the end, all we could do is try not to run out of fuel. Try not to be outdated. \n",
            "Blackcoffer Insights 29: Glady, Karunya Institute of Technology and Sciences.\n",
            "\n",
            "\n",
            "\n",
            "\n",
            "TAG\n"
          ]
        }
      ]
    },
    {
      "cell_type": "code",
      "source": [
        "file = open ('URL_38.txt','w')\n",
        "file.write(my_article_2)\n",
        "file.close ()"
      ],
      "metadata": {
        "id": "HlPFDATGrVZh"
      },
      "execution_count": null,
      "outputs": []
    },
    {
      "cell_type": "markdown",
      "source": [
        "# URL_39\n"
      ],
      "metadata": {
        "id": "HpiBNSXfrqCI"
      }
    },
    {
      "cell_type": "code",
      "source": [
        "r = urllib.request.urlopen('https://insights.blackcoffer.com/what-jobs-will-robots-take-from-humans-in-the-future/').read()\n",
        "soup = BeautifulSoup(r, \"lxml\")\n",
        "type (soup)\n",
        "my_article_3=soup.article.get_text()[0:11450]\n",
        "print(my_article_3)"
      ],
      "metadata": {
        "colab": {
          "base_uri": "https://localhost:8080/"
        },
        "id": "MWxQGOT7rkXs",
        "outputId": "c8ba417d-6c65-46a0-c23a-ca49e05a1a10"
      },
      "execution_count": null,
      "outputs": [
        {
          "output_type": "stream",
          "name": "stdout",
          "text": [
            "\n",
            "\n",
            "\n",
            "Home  What We Think  What Jobs Will Robots Take From Humans in The Future?\n",
            "\n",
            "\n",
            "\n",
            "Data ScienceArtificial IntelligenceBig DataBusiness AnalyticsWhat We Think What Jobs Will Robots Take From Humans in The Future?\n",
            "\n",
            "By Ajay Bidyarthy -   June 25, 2021 8226 \n",
            "\n",
            "\n",
            "\n",
            "\n",
            "\n",
            "\n",
            "\n",
            "\n",
            "\n",
            "\n",
            "\n",
            "\n",
            "\n",
            "\n",
            "\n",
            "FacebookTwitterPinterestWhatsApp\n",
            "\n",
            "\n",
            "\n",
            "Introduction\n",
            "AI is rapidly evolving in the employment sector, particularly in matters involving business and finance. Finance, management, economics, and accounting are now among the most popular university courses globally; particularly at the graduate level, due to their high employability. However, the evolution of machinery in industries is changing that. According to research, 230,000 jobs in these sectors may be replaced by AI agents in the next 5 years. This is due to the nature of the work, as employees are responsible for tasks such as data analysis and keeping track of numerical information; which machines excel at. Large, complicated data sets can be analyzed faster and more efficiently by AI-powered computers than by people. Algorithmic trading procedures that produce automated deals are less likely to be produced without minute errors when undertaken by humans. In such matters involving industrial work, a subsection of artificial intelligence is used; namely, machine learning.\n",
            "\n",
            "Machine learning is a term used for the application of artificial intelligence (AI) in systems, which involves them assimilating and processing information by gaining experience. It is mainly concerned with the development of technology and computer programs.\n",
            " Its improvement process is mainly divided into seven steps; which start with the collection of data. This data can be collected from an internal database or perhaps an IoT structure. The second and most time-consuming step is cleaning, preparing, and rearranging the data; which involves the recognition of outliers, trends, and missing information so that the outcome is as accurate as possible. The third step consists of formatting data; which is useful if you source your information from a variety of sources. Step four is where AI comes into place. Self-service data processing tools may be useful if they provide intelligent services for matching data attributes from distinct databases and intelligently integrating them. The data is then arranged to better represent a specific pattern. Lastly, the data is divided into two sets: one for training the algorithm and one for analysis.\n",
            "There are three types of machine learning; supervised, unsupervised, and reinforcement learning. The most common of the bunch is supervised machine learning; which is based on accurately labeled data. The machine is given a collection of information, including the outcome of the operation. The rest of the information is referred to as ‘input features’, which ‘supervises’ the machine by guiding it to establish the connections between the variants.\n",
            "In the case of unsupervised learning, the machine isn’t given labeled sets of data to be divided into, allowing it to recognize and create its own patterns within the information provided. Since computers have the capabilities of identifying distinguished similarities, this method helps with the classifying of such data.\n",
            "Reinforcement learning comprises experience-based learning. Similar to people, they learn due to a reward and punishment system based on their actions.\n",
            "These variations of system learning have recently been integrated into business and finance, which is elaborated on in the following passages.\n",
            "Machine learning in finance and banking\n",
            "There are many ways in which machine learning is used in finance and banking. The most common place it is used is to detect any frauds. Fraud is the most common problem in financial service companies and it accounts for billions of dollars in misfortune each year. The most common frauds are credit or debit card usage by a stranger, document forgery, and mortgage fraud.\n",
            "Usually, finance companies keep an enormous amount of their data stored online, and it increases the risk of information being accessed without authorization. With expanding innovative headway, misrepresentation in the monetary business is currently viewed as a high danger to significant information. Fraud recognition frameworks in the past were planned dependent on a bunch of rules, which could be effortlessly be bypassed by current fraudsters. Therefore, most companies today leverage machine learning to combat fraudulent financial transactions.\n",
            " Machine learning works by looking over enormous informational indexes to distinguish unique or suspicious activities for additional examination by security groups. It works by looking at an exchange against other information focuses – like the client’s record history, IP address, area, and so forth.  Depending on the type of exchange taking place, the program can automatically refuse a withdrawal or purchase until the person makes a decision.\n",
            "Examples of fraud detection software used by banks include Feedzai, Data visor, and Teradata\n",
            "Machine learning is also used in algorithmic trading, portfolio management, loan underwriting, chatbots, and improving customer service.\n",
            "Algorithmic trading is an interaction for executing orders using computerized and pre-modified exchanging guidelines to represent factors like value, timing, and volume. An algorithm is a set of directions for solving a problem. Computer calculations send little parts of the full request to the market over the long run.\n",
            "In contrast to human dealers, algorithmic exchanging can investigate enormous volumes of information every day and therefore make thousands of trades every day. Machine learning settles on quick exchanging choices, which gives human traders a benefit over the market normal. Likewise, algorithmic exchanging doesn’t settle on exchanging choices dependent on feelings, which is a typical constraint among human dealers whose judgment might be influenced by feelings or individual desires. The exchanging technique is generally utilized by multifaceted investment administrators and monetary foundations to automate trading activities.\n",
            "In the banking industry, organizations access a large number of shopper information, with which machine learning can be prepared to work in order to simplify the underwriting process. Machine learning calculations can settle on speedy choices on endorsing and credit scoring, and save organizations both time and monetary assets that are utilized by people.\n",
            "Data scientists can train algorithms on how to analyze millions of consumer data to coordinate with information records, search for interesting special cases, and settle on a choice on whether a shopper meets all requirements for an advance or protection. For instance, the calculation can be prepared on the most proficient method to examine shopper information, like age, pay, occupation, and the buyer’s credit conduct.\n",
            "The benefits of machine learning\n",
            "As with any form of revolutionary technology, the usage of machine learning has been debated over as its beneficial properties have been weighed against the possible disadvantages. It’s been observed that upon correct usage, it may be used to solve a wide range of business challenges and anticipate complicated customer behavior. We’ve also seen several of the largest IT conglomerates, such as Google, Amazon, and Microsoft, introduce Cloud Machine Learning platforms.\n",
            "Technology vs Human intelligence\n",
            "In terms of business, ML can aid businesses by identifying consumer’s demands and formulate a pattern based on them; allowing companies to reach out to such consumers and maximize their sales. It eliminates the need for expenses on some maintenance by reducing the risks associated with unexpected breakdowns and minimizes wasteful costs to the firms.  Historical data, a process visualization tool, a flexible analytical environment, and a feedback loop may all be used to build an ML architecture. The input of data is another agitating chore for businesses in the present, which is where machine learning can step in for manual labor. This eradicates the possibility of errors caused by manual labor causing disruptions and provides employees with extra time to handle other tasks.\n",
            "In the financial sector, machine learning is already utilized for portfolio management, algorithmic trading, loan underwriting, and fraud detection. Chatbots and other conversational interfaces for security, customer support, and sentiment analysis will be among the future uses of ML in banking. Another aspect of business involving artificial intelligence includes image recognition, which entails a system or program that recognizes objects, people, places, and movements in photos. It identifies photographs using an imaging system and machine recognition tech with artificial intelligence and programmed algorithms.\n",
            "The downfalls of machine learning\n",
            "With all the benefits of its advancement, machine learning isn’t the most perfect thing. There are several disadvantages which are information acquisition, time and resources and high errors, and wrong interpretations. One of the major hurdles is the amount of finance needed to invest in machine learning for it to be a successful project. More issues have to do with the fact that AI requires gigantic informational indexes to train on, and these ought to be unbiased, and of good quality. There can likewise be times where they have to wait for that new information to be produced. Machine learning needs sufficient opportunity to do the calculations to learn and adequately to satisfy their accuracy and relevancy. It also needs huge resources to work. This can mean extra requirements for the computer to work. Another significant problem is the capacity to precisely decipher the results produced by the calculations. You should likewise cautiously pick the algorithms to get the wanted results.\n",
            "Conclusion\n",
            "There have been various reports in the past and current years which claim that a significant piece of the human labor force will be replaced via robots and machines in the years to come. With excessive innovative work being led in the field of computerized reasoning, many dread that a significant job crisis will unfurl since numerous positions are all the more precisely and productively performed with the use of machines. In countries like Japan, mainly computer programs and AI is used in the secondary and tertiary sectors. From cleaning the house to depositing money in banks, everything is done by AI. However, AI cannot replace humans in the future. Humans have several capabilities which, even after several technological advancements a machine would not be able to have. These capabilities include creative thinking and creative problem solving, and human connection. For example, when a child goes to a doctor to get an injection, a nurse always relaxes the child to not be afraid of the needle. A machine’s touch would not be able to soothe a child. Another example could be how humans tend to share things with each other and be open about it, a machine will not be able to do so since it is only programmed to things it has been told to do. Like computers, AI will not replace us but would however complement us to make daily work easier and less time-consuming. Without humans themselves, there is no future for AI.\n",
            "Blackcoffer Insights 29: Amara Arora and Vaanya Kaushal, Scottish High International School\n",
            "\n",
            "\n",
            "\n",
            "TAGSArtificial Intell\n"
          ]
        }
      ]
    },
    {
      "cell_type": "code",
      "source": [
        "file = open ('URL_39.txt','w')\n",
        "file.write(my_article_3)\n",
        "file.close ()"
      ],
      "metadata": {
        "id": "88FIYtg4sRNM"
      },
      "execution_count": null,
      "outputs": []
    },
    {
      "cell_type": "markdown",
      "source": [
        "# ULR_40"
      ],
      "metadata": {
        "id": "5I29U94dsjgH"
      }
    },
    {
      "cell_type": "code",
      "source": [
        "r = urllib.request.urlopen('https://insights.blackcoffer.com/will-machine-replace-the-human-in-the-future-of-work/').read()\n",
        "soup = BeautifulSoup(r, \"lxml\")\n",
        "type (soup)\n",
        "my_article_4=soup.article.get_text()\n",
        "print(my_article_4)"
      ],
      "metadata": {
        "colab": {
          "base_uri": "https://localhost:8080/"
        },
        "id": "EhrNvKo6slp5",
        "outputId": "0e23adb0-bc95-4e6e-9c60-2095c800d3d1"
      },
      "execution_count": null,
      "outputs": [
        {
          "output_type": "stream",
          "name": "stdout",
          "text": [
            "\n",
            "\n",
            "\n",
            "Home  What We Think  Will Machine Replace The Human in the Future of Work?\n",
            "\n",
            "\n",
            "\n",
            "Data ScienceAnalyticsArtificial IntelligenceBig DataMachine LearningWhat We Think Will Machine Replace The Human in the Future of Work?\n",
            "\n",
            "By Ajay Bidyarthy -   June 25, 2021 8361 \n",
            "\n",
            "\n",
            "\n",
            "\n",
            "\n",
            "\n",
            "\n",
            "\n",
            "\n",
            "\n",
            "\n",
            "\n",
            "\n",
            "\n",
            "\n",
            "FacebookTwitterPinterestWhatsApp\n",
            "\n",
            "\n",
            "\n",
            "“Anything that could give rise to smarter-than-human intelligence – in the form of Artificial Intelligence, brain-computer interfaces, or neuroscience-based human intelligence enhancement – wins hands down beyond contest as doing the most to change the world. Nothing else is even in the same league.” \n",
            "–Eliezer Yudkowsky, AI Researcher\n",
            "There’s no denying robots and automation are increasingly part of our daily lives. Just look around the grocery store, or the highway, they are everywhere. This makes us wonder what if AI can replace human intelligence? What can we do to make ourselves relevant tomorrow? Let us try to find the answers to all these questions and more.\n",
            "Let’s first understand what is Artificial Intelligence –\n",
            "Artificial Intelligence or AI basically machines displaying intelligence. This can be seen from a machine playing chess or a robot answering questions on Facebook. Artificial Intelligence can be further broken down into many different types. There are AIs designed to do specific tasks, such as detecting a specific type of cancer. However, there are also AIs that can do multiple tasks, such as driving a car. There are many types of AIs. Among the top, most important fields are Machine Learning or ML, Neural Network, Computer Vision, and Natural Language Processing or NLP.\n",
            "Machine Learning is the idea of machines being able to prove themselves similar to how a human being learns a new skill. Machine Learning also allows for the optimization of an existing skill. Machine Learning is used in many different fields and one such application is entertainment. Netflix uses Machine Learning to recommend more shows that you can watch based on the shows that you have already seen.\n",
            "Neural Networks are algorithms that are modeled after the human brain. These algorithms think just like we do which can thereby give similar results to what a human being can give. Artificial Neural Networks are used in medical fields to diagnose cancers like lung cancer and prostate cancer.\n",
            "Computer Vision is the idea that computers have visions. This allows them to see things the way human beings do or potentially better than human beings do, depending on the programming, camera used, etc. Computer Vision is used in autonomous vehicles for navigation from one place to another.\n",
            "Natural Language Processing is the idea that computers can listen to what we say. An example of this is Siri. Siri is able to listen to our demands, process what it means, and provide you an answer based on what is researched.\n",
            "Now that we know what an AI is and what it can do, Let’s talk about the issue.\n",
            "WILL MACHINE REPLACE THE HUMAN IN THE FUTURE OF WORK?                                                 \n",
            "AIs allow for the automation of jobs, thereby replacing what humans already do. This means more job loss and the concentration of wealth to the selected few people. This could mean a destabilization of society and social unrest. In addition to social unrest, AI improves over time. This means it becomes smarter, faster, and cheaper to implement and it will be better at doing repetitive things that humans currently do, such as preparing fast food. It is predicted that AI will improve so much over 50 to 100 years that AI will become super intelligent. This means that it will become even smarter than the most intelligent human on earth. According to many experts such as Elon Musk, this could cause the end of human civilization. AI could potentially start a war against humans, burn crops and do all sorts of tragedies once reserved for human functions. At that point, in theory, we can not stop it because AI would have already thought of all the obstacles that will prevent its goal. This means that we cannot unplug the machine, in effect AI will replace human intelligence.\n",
            "But, will this happen in next 10 to 30 years?\n",
            "NO! The field of Artificial Intelligence is sophisticated enough to do many human tasks that humans currently do. Currently, AI is not smart enough to be empathetic to humans and cannot think strategically enough to solve complex problems. AI solutions can be expensive and have to go through many different tests and standards to implement. It also takes time for AI to improve. For example, Boston Dynamics, one of the world’s top robotics company had a robot in 2009 that needed assistance to walk. Fast forward to 2019, not only the robot could walk by itself but it could jump over objects, do backflips and so much more. In addition to the timing, it takes time for the price of any new technological solution to drop to a point where it is affordable. For example, a desktop computer costs around $1000 in 1999 but now you can get a significantly more powerful laptop for the exact same price. AI will go through the same curve.\n",
            "But what happens after those 10 to 30 years? Will AI make human intelligence obsolete? Maybe. As we have proven earlier AI will become faster better and cheaper. As this happens, more and more companies will use AI technology to automate more and more jobs to save money, increase productivity, and most importantly, stay competitive. As we have demonstrated, AI will become better through repetition via the use of machine learning. The only difference is that AI will be able to learn faster as time progresses due to the amount of data that is available today. It will also be able to learn from other machines or similar machines to learn how to optimize its tasks or new important skills. However, AI also just not do repetitive and routine tasks better, it will also be able to understand emotional intelligence, ethics, and creativity. This seen in three distinct example- IBM\n",
            "IBM uses its IBM Watson to program the AI to create a movie trailer. Fox approached IBM and said they have a movie coming out on AI #Scifi horror. They asked IBM if their platform IBM Watson could a trailer by reviewing and watching the footage and searching for scary,\n",
            "WILL MACHINE REPLACE THE HUMAN IN THE FUTURE OF WORK?                                             \n",
            "Sad or happy or other moments in the movie that provoked quality emotions based on how the machine was programmed to identify such emotions in a quantifiable manner. IBM Watson was able to generate a trailer for the movie Morgan. The result, a movie trailer created by machines example – Google\n",
            "IN 2018 google demonstrated an AI assistance that could take calls and do simple stuff. The AI was able to set up an appointment! What was more fascinating was that it was able to understand the nuances of the conversation. The receptionist thought it was a human being that was calling her. That is a very primitive version of what is possible with this technology. Eventually, it will be able to have conversations just as human beings do, making many sales jobs obsolete. example – AI generated art\n",
            "In 2018, a Paris art collective consisting of three students used artificial intelligence to generate a portrait. It generated the portrait painting by studying a set of fifteen thousand art images on wiki art. It was estimated to be worth between seven thousand to ten thousand dollars. The painting sold at an auction for four thirty-five thousand US dollars.\n",
            "However, we cannot for sure say that AI will replace human intelligence. This is because we as a society have started asking hard questions and questioning ethics. Elon Musk founded Open AI, a research lab whose whole purpose is to promote and discover artificial intelligence in a way to benefits humanity. In addition to this, there are many factors that affect the long-term outcome of AI replacing human intelligence. Like, to what degree will other humans allow for AI to take over? Depending on the field, do people even want Artificial Intelligence to help them? Or will they prefer a human counterpart? While we may not be able to control what happens in the long run, we can definitely secure our short-term future.\n",
            "Here are the top five skills that will not become obsolete in the near future\n",
            "Strategic and creative thinking\n",
            "The ability to think outside the box is very human. There are thousands upon thousands of slightly different possible outcomes that may result from every distinguishable action that the human mind with its ability to judge from experience is programmed for these purposes in a far more sophisticated manner than AI can currently achieve. As the billionaire founder of Alibaba, Jack Ma famously said – “AI has logic, human beings have wisdom”.\n",
            "Conflict resolution and negotiations\n",
            "With our understanding of the complexities of human-related processes and our ability to improvise and judge, we are far better equipped to deal with conflicts than robots are ever likely to be.\n",
            "WILL MACHINE REPLACE THE HUMAN IN THE FUTURE OF WORK?                                \n",
            "Emotional Intelligence and Empathy\n",
            "AI may be able to recognize faces and images but it can rarely successfully read the feelings of those faces. Humans, to lesser or greater degrees, are capable of an accurate analysis of emotional subtext. With the application of intuition and the use of delicately worded or elusive languages, through these methods, we are able to properly judge how a person feels.\n",
            "Interpretation of Gray Areas\n",
            "Robots and computers function well when presented with quantifiable data. However, once the situation enters a gray area, whether this term refers to morals, processes, or definitions robots are more likely to falter.\n",
            "Critical thinking\n",
            "Humans are capable of responding to more indicators of quality than computers are. While an AI system may be able to analyze documents according to the true or false statements made within the text, we can judge whether or not it is well written and analyze the implication of the use of certain words and the overall meaning of the content.\n",
            "Blackcoffer Insights 29: Fiza Parveen, Shri Govindram Institute of Technology and Science, Indore\n",
            "\n",
            "\n",
            "\n",
            "\n",
            "TAGSArtificial IntelligenceBig DataFuture revolutionhumanmachine learningRobots \n",
            "FacebookTwitterPinterestWhatsApp\n",
            "\n",
            " Previous articleWill AI Replace Us or Work With Us?Next articleAutomation, ETL, Data Pipeline from MongoDB to Kibana, Elasticsearch Ajay Bidyarthy  \n",
            "RELATED ARTICLESMORE FROM AUTHOR\n",
            "\n",
            "\n",
            "\n",
            "\n",
            " \n",
            "\n",
            "Rise of telemedicine and its Impact on Livelihood by 2040 \n",
            "\n",
            " \n",
            "\n",
            "\n",
            "\n",
            " \n",
            "\n",
            "Rise of e-health and its impact on humans by the year 2030 \n",
            "\n",
            " \n",
            "\n",
            "\n",
            "\n",
            " \n",
            "\n",
            "Rise of e-health and its impact on humans by the year 2030 \n",
            "\n",
            "  \n",
            "\n",
            " \n",
            "\n",
            "\n",
            "\n",
            "\n",
            "\n",
            "- Advertisement -MOST POPULAR INSIGHTS\n",
            "\n",
            "\n",
            "\n",
            "\n",
            "An agent-based model of a Virtual Power Plant (VPP) \n",
            "September 15, 2022 \n",
            "\n",
            "\n",
            " \n",
            "\n",
            "\n",
            "\n",
            "\n",
            "The Future of Bank Risk Management \n",
            "June 1, 2019 \n",
            "\n",
            "\n",
            " \n",
            "\n",
            "\n",
            "\n",
            "\n",
            "A Leading Firm in the USA, SEO and Website Optimization \n",
            "September 5, 2021 \n",
            "\n",
            "\n",
            " \n",
            "\n",
            "\n",
            "\n",
            "\n",
            "Role of big data & analytics in banking and finance \n",
            "June 1, 2019 \n",
            "\n",
            "\n",
            " Load more RECOMMENDED INSIGHTS\n",
            "\n",
            "\n",
            "\n",
            " \n",
            "How Metaverse is Shaping the Future?\n",
            "\n",
            " \n",
            "\n",
            "\n",
            "\n",
            " \n",
            "How Big Data Will Impact the Future of Business?\n",
            "\n",
            " \n",
            "\n",
            "\n",
            "\n",
            " \n",
            "How marketers can start integrating AI in their work\n",
            "\n",
            " \n",
            "\n",
            "\n",
            "\n",
            " \n",
            "Transform API into SDK library and widget\n",
            "\n",
            "   \n",
            "\n",
            " \n",
            " \n",
            "\n"
          ]
        }
      ]
    },
    {
      "cell_type": "code",
      "source": [
        "file = open ('URL_40.txt','w')\n",
        "file.write(my_article_4)\n",
        "file.close ()"
      ],
      "metadata": {
        "id": "m5To9WbvtlzI"
      },
      "execution_count": null,
      "outputs": []
    },
    {
      "cell_type": "markdown",
      "source": [
        "# URL_41"
      ],
      "metadata": {
        "id": "qO8jVc8dtwv9"
      }
    },
    {
      "cell_type": "code",
      "source": [
        "r = urllib.request.urlopen('https://insights.blackcoffer.com/will-ai-replace-us-or-work-with-us/').read()\n",
        "soup = BeautifulSoup(r, \"lxml\")\n",
        "type (soup)\n",
        "my_article_5=soup.article.get_text()\n",
        "print(my_article_5)\n",
        "file = open ('URL_41.txt','w')\n",
        "file.write(my_article_5)\n",
        "file.close ()"
      ],
      "metadata": {
        "colab": {
          "base_uri": "https://localhost:8080/"
        },
        "id": "h3veneemtwD-",
        "outputId": "be210913-b9f5-48d6-d980-12fe9e1f5547"
      },
      "execution_count": null,
      "outputs": [
        {
          "output_type": "stream",
          "name": "stdout",
          "text": [
            "\n",
            "\n",
            "\n",
            "Home  What We Think  Will AI Replace Us or Work With Us?\n",
            "\n",
            "\n",
            "\n",
            "Data ScienceArtificial IntelligenceBig DataBusiness AnalyticsWhat We Think Will AI Replace Us or Work With Us?\n",
            "\n",
            "By Ajay Bidyarthy -   June 25, 2021 7633 \n",
            "\n",
            "\n",
            "\n",
            "\n",
            "\n",
            "\n",
            "\n",
            "\n",
            "\n",
            "\n",
            "\n",
            "\n",
            "\n",
            "\n",
            "\n",
            "FacebookTwitterPinterestWhatsApp\n",
            "\n",
            "\n",
            "\n",
            "“Machine intelligence is the last invention that humanity will ever need to make”\n",
            "Nick Bostrom\n",
            "\n",
            "To put it frankly, Artificial Intelligence will eventually replace jobs. Workers in a variety of industries, from healthcare to agriculture and manufacturing, should expect to witness hiring disruptions as a result of Artificial Intelligence.\n",
            "If history has taught us anything, it is that disruptive paradigm-shifting business ideas not only make a fortune for the innovators, but they also build the groundwork for new business models, market entrants, and job opportunities which will inevitably follow. It is true that robots today or in future will eventually replace humans for many jobs, but so did innovative farming equipment for humans and horses during the industrial revolution. But that does not mean that our jobs as humans will end here. We, on the other hand, will be required to generate and provide value in whole new ways for entirely new business models as a result of these changes.\n",
            "According to 71% of the businesses worldwide, Artificial Intelligence can help people overcome critical and challenging problems and live better lives. Artificial Intelligence consultants at work will be more or equally fair, according to a whopping 83% of corporate leaders. These results demonstrate that Artificial Intelligence is steadily extending its measures, yielding societal benefits and allowing citizens to live more fulfilling lives.\n",
            "Increase in Automation and Jobs where humans can’t compete\n",
            "Since the advent of Industry 4.0, businesses are moving at a fast pace towards automation, be it any type of industry. In 2013, researchers at oxford university did a study on the future of work. They concluded that almost one in every two jobs have a high risk of being automated by machines. Machine learning is responsible for this disruption. It is the most powerful branch of artificial intelligence. It allows machines to learn from data and mimic some of the things that humans can do.\n",
            "A research was conducted by the employees of Kaggle wherein an algorithm was to be created to take images of a human eye and diagnose an eye disease known as diabetic retinopathy. Here, the winning algorithm could match the diagnosis given by human ophthalmologists. Another study was conducted wherein an algorithm should be created to grade high school essays. Here too, the winning algorithm could match the grade given by human teachers.\n",
            "Thus, we can safely conclude that given the right data, machines can easily outperform human beings in tasks like these. A teacher might read 10,000 essays over a 40-year career; an ophthalmologist might see 50,000 eyes but a machine can read a million essays and see a million eyes within minutes.\n",
            "Thus, it is convenient to conclude that we have no chance of competing with machines on frequent, high volume tasks. \n",
            "Tasks where machines don’t work\n",
            "But there are tasks where human beings have an upper hand, and that is, in novel tasks. Machines can’t handle things they haven’t seen many times before. The fundamental rule of machine learning is that it learns from large volumes of past data. But humans don’t; we have the ability of seemingly connecting disparate threads to solve problems we haven’t seen before. \n",
            "Percy Spencer was a physicist working on radar during world war 2 where he noticed that the magnetron was melting his chocolate bar. Here, he was able to connect his understanding of electromagnetic radiation with his knowledge of cooking in order to invent the microwave oven. Now this sort of cross pollination happens to each one of us several times in a day. Thus, machines cannot compete with us when it comes to tackling novel situations. \n",
            "Now as we all know that around 92% of talented professionals believe that soft skills such as human interactions and fostering relationships matter much more than hard skills in being successful in managing a workplace. Perhaps, these are the kind of tasks that machines can never compete with humans at. \n",
            "Also, creative tasks: the copy behind a marketing campaign needs to grab customers’ attention and will have to stand out of the crowd. Business strategy means finding gaps in the market and accordingly working on them. Since machines cannot outperform humans in novel tasks, it will be humans who would be creating these campaigns and strategies. \n",
            "Human contact would be essential in care-giving and educational-related work responsibilities, and technology would take a backseat. Health screenings and customer service face-to-face communication would advocate for human contact, with Artificial Intelligence playing a supporting role. \n",
            "So, what does this mean for the future of work? The future state of any single job lies in the answer to one single question: to what extent is the job reducible to tackling frequent high-volume tasks and to what extent does it involve tackling novel situations?\n",
            "\n",
            "Today machines diagnose diseases and grade exam papers, over the coming years they’re going to conduct audits, they’re going to read boilerplate from legal contracts. But does that mean we’re not going to be needing accountants and lawyers? Wrong. We’re still going to need them for complex tax structuring, for path breaking litigation. It will only get tougher to get these jobs as machine learning will shrink their ranks. \n",
            "Amazon has recruited more than 100,000 robots in its warehouses to help move goods and products around more effectively, and its warehouse workforce has expanded by more than 80,000 people. Humans pick and pack goods (Amazon has over 480,000,000 products on its “shelves”), while robots move orders throughout the enormous warehouses, therefore reducing “the amount of walking required of workers, making Amazon pickers more efficient and less exhausted.” Furthermore, because Amazon no longer requires aisle space for humans, the robots enable Amazon to pack shelves together like cars in rush-hour traffic.” More inventory under one roof offers better selection for customers, and a higher density of shelf space equals more inventory under one roof.\n",
            "Kodak Vs Instagram\n",
            "Kodak, once an undisputed giant of the photography industry, had a 90% share in the USA market in 1976, and by 1984, they were employing 1,45,000 people. But in the year 2012, they had a net worth of negative $1 billion and they had to declare bankruptcy. Why? Because they failed to predict the importance of exponential trends when it comes to technology. On the other hand, Instagram, a digital photography company started in 2012 with 13 employees and later they were sold to Facebook for $1 billion. This is so ironic because Kodak pioneered digital photography and actually invented the first digital camera but unfortunately thought of it as a mere product and didn’t pay attention towards it and this created the problem.  \n",
            "We live in an era of artificial intelligence (AI), which has given us tremendous computing power, storage space, and information access. We were given the spinning wheel in the first, electricity in the second, and computers in the third industrial revolution by the exponential growth of technology.\n",
            "Airbnb and its breakthrough idea!\n",
            "Airbnb, which is a giant start-up and is known for enabling homeowners to rent out their homes and couches to travellers, for example, “is now creating a new Artificial Intelligence system that will empower its designers and product engineers to literally take ideas from the drawing board and convert them into actual products almost instantly.” This might be a significant breakthrough whether you’re a designer, engineer, or other type of technologist.\n",
            "Differences that Automation brings onto the table: \n",
            "There are three key changes that automation can bring about at the macro level: \n",
            "Changes in capability demandGender imbalance in workforce redeploymentFirm reorganization. \n",
            "Sectors that might be in trouble\n",
            "Artificial Intelligence isn’t just a fad. Tractica, a market research firm, published a report in 2016 that predicted “annual global revenue for artificial intelligence products and services will expand from 643.7 million in 2016 to $36.8 billion by 2025, a 57-fold increase over that time span.” As a result, it is the IT industry’s fastest-growing segment of any size.”\n",
            "The reduction in need for people as a result of Artificial Intelligence and related technologies, which resulted in job layoffs, was a cause of fear. In India alone, job losses in the IT sector have reportedly reached 1,000 in the last year, owing to the integration of new and advanced technologies like artificial intelligence and machine learning. \n",
            "Most of the IT companies such as Infosys, Wipro, TCS, and Cognizant have reduced their employee base in India and are recruiting less, while engaging more personnel in the United States and investing heavily in “centres of innovation.” Artificial Intelligence and data science, which are currently the trending aspects that require fewer people and are primarily located abroad, aren’t helping the prospects of local employees. Another factor is that the computer industry is continuously growing and would develop to a size of two million workers. Unfortunately, it’s a drop in the bucket compared to what robots are doing to Information Technology’s less-skilled brothers. \n",
            "Large e-commerce sites that used to be operated by armies of people are now manned by 200 robots produced by GreyOrange, which is an Indian company based out in Gurgaon. These indefatigable robots lift and stack boxes 24 hours a day, with only a 30-minute break for recharging, and have cut employees by up to 80%. For efficiency, this is a victory but a disaster for job prospects. \n",
            "Concluding remarks\n",
            "Internal re-skilling and redeployment of staff is a critical requirement of the hour. Artificial intelligence has presented Indian policymakers with epistemological, scientific, and ethical issues. This requires us to abandon regular, linear, and non-disruptive mental patterns. The tale of artificial intelligence’s influence on individuals and their occupations will only be told over time. It is up to us to upskill ourselves and look for ways to stay current with the industry’s current trends and demands. \n",
            "So, will machines be able to take over many of our jobs? The answer is a resounding yes. However, for every job that is taken over by robots, there will be an equal number of positions available for people to do. Some of these human vocations will be artistic in nature. Others will necessitate humans honing superhuman cognitive abilities. Humans and machines can form symbiotic relationships, assisting each other in doing what they do best. In the future, people and machines may be able to collaborate and work together towards a common goal for any business they work for. \n",
            "Blackcoffer Insights 29:  Syed Basir Quadri and Sanchita Khattar, K J Somaiya Institute of Management \n",
            "\n",
            "\n",
            "\n",
            "TAGSArtificial IntelligenceHumans vs RobotsInternet of Thingsmachine learningMachinesTechnology innovations \n",
            "FacebookTwitterPinterestWhatsApp\n",
            "\n",
            " Previous articleWill machine replace the human in the future of work?Next articleWill Machine Replace The Human in the Future of Work? Ajay Bidyarthy  \n",
            "RELATED ARTICLESMORE FROM AUTHOR\n",
            "\n",
            "\n",
            "\n",
            "\n",
            " \n",
            "\n",
            "Rise of telemedicine and its Impact on Livelihood by 2040 \n",
            "\n",
            " \n",
            "\n",
            "\n",
            "\n",
            " \n",
            "\n",
            "Rise of e-health and its impact on humans by the year 2030 \n",
            "\n",
            " \n",
            "\n",
            "\n",
            "\n",
            " \n",
            "\n",
            "Rise of e-health and its impact on humans by the year 2030 \n",
            "\n",
            "  \n",
            "\n",
            " \n",
            "\n",
            "\n",
            "\n",
            "\n",
            "\n",
            "- Advertisement -MOST POPULAR INSIGHTS\n",
            "\n",
            "\n",
            "\n",
            "\n",
            "IoT & AI/ML Solution for Gas Stations \n",
            "January 22, 2020 \n",
            "\n",
            "\n",
            " \n",
            "\n",
            "\n",
            "\n",
            "\n",
            "IoT & AI/ML Descriptive Solution Outline \n",
            "January 22, 2020 \n",
            "\n",
            "\n",
            " \n",
            "\n",
            "\n",
            "\n",
            "\n",
            "Marketing Ads Leads Call Status Data Tool to BigQuery \n",
            "August 30, 2021 \n",
            "\n",
            "\n",
            " \n",
            "\n",
            "\n",
            "\n",
            "\n",
            "Sentiment Analysis of a Leading Restaurants Chain in the USA \n",
            "October 5, 2020 \n",
            "\n",
            "\n",
            " Load more RECOMMENDED INSIGHTS\n",
            "\n",
            "\n",
            "\n",
            " \n",
            "Recommendation System Architecture\n",
            "\n",
            " \n",
            "\n",
            "\n",
            "\n",
            " \n",
            "Data ETL: Local Service Ads Leads to BigQuery\n",
            "\n",
            " \n",
            "\n",
            "\n",
            "\n",
            " \n",
            "Sentiment Analysis of a Leading Restaurants Chain in the USA\n",
            "\n",
            " \n",
            "\n",
            "\n",
            "\n",
            " \n",
            "A Leading Law Firm in the USA, Website SEO & Optimization\n",
            "\n",
            "   \n",
            "\n",
            " \n",
            " \n",
            "\n"
          ]
        }
      ]
    },
    {
      "cell_type": "markdown",
      "source": [
        "# URL_42"
      ],
      "metadata": {
        "id": "M3XOdxPjxD06"
      }
    },
    {
      "cell_type": "code",
      "source": [
        "r = urllib.request.urlopen('https://insights.blackcoffer.com/man-and-machines-together-machines-are-more-diligent-than-humans-blackcoffe/').read()\n",
        "soup = BeautifulSoup(r, \"lxml\")\n",
        "type(soup)\n",
        "my_article_6=soup.article.get_text()\n",
        "file = open ('URL_42.txt','w')\n",
        "file.write(my_article_6)\n",
        "file.close ()"
      ],
      "metadata": {
        "id": "FabKf-DxxGYr"
      },
      "execution_count": null,
      "outputs": []
    },
    {
      "cell_type": "markdown",
      "source": [
        "# URL_43"
      ],
      "metadata": {
        "id": "_B6jmoORxlQy"
      }
    },
    {
      "cell_type": "code",
      "source": [
        "r = urllib.request.urlopen('https://insights.blackcoffer.com/in-future-or-in-upcoming-years-humans-and-machines-are-going-to-work-together-in-every-field-of-work/').read()\n",
        "soup = BeautifulSoup(r, \"lxml\")\n",
        "type(soup)\n",
        "my_article_7=soup.article.get_text()\n",
        "file = open ('URL_43.txt','w')\n",
        "file.write(my_article_7)\n",
        "file.close ()"
      ],
      "metadata": {
        "id": "jk-3C-T-xVhw"
      },
      "execution_count": null,
      "outputs": []
    },
    {
      "cell_type": "markdown",
      "source": [
        "# URL_44"
      ],
      "metadata": {
        "id": "apIWuCAMxz-I"
      }
    },
    {
      "cell_type": "markdown",
      "source": [
        "# URL_45"
      ],
      "metadata": {
        "id": "jWNNwkpqyEnS"
      }
    },
    {
      "cell_type": "code",
      "source": [
        "r = urllib.request.urlopen('https://insights.blackcoffer.com/how-machine-learning-will-affect-your-business/').read()\n",
        "soup = BeautifulSoup(r, \"lxml\")\n",
        "type(soup)\n",
        "my_article_9=soup.article.get_text()\n",
        "file = open ('URL_45.txt','w')\n",
        "file.write(my_article_9)\n",
        "file.close ()"
      ],
      "metadata": {
        "id": "EmiW4KB6xXUB"
      },
      "execution_count": null,
      "outputs": []
    },
    {
      "cell_type": "markdown",
      "source": [
        "# URL_46"
      ],
      "metadata": {
        "id": "F4kdAhy6yUYO"
      }
    },
    {
      "cell_type": "code",
      "source": [
        "r = urllib.request.urlopen('https://insights.blackcoffer.com/deep-learning-impact-on-areas-of-e-learning/').read()\n",
        "soup = BeautifulSoup(r, \"lxml\")\n",
        "type(soup)\n",
        "my_article_10=soup.article.get_text()\n",
        "file = open ('URL_46.txt','w')\n",
        "file.write(my_article_10)\n",
        "file.close ()"
      ],
      "metadata": {
        "id": "87lwub3NxXRC"
      },
      "execution_count": null,
      "outputs": []
    },
    {
      "cell_type": "markdown",
      "source": [
        "# ULR_47"
      ],
      "metadata": {
        "id": "igAE5bFZyhhy"
      }
    },
    {
      "cell_type": "code",
      "source": [
        "r = urllib.request.urlopen('https://insights.blackcoffer.com/how-to-protect-future-data-and-its-privacy-blackcoffer/').read()\n",
        "soup = BeautifulSoup(r, \"lxml\")\n",
        "type(soup)\n",
        "my_article_11=soup.article.get_text()\n",
        "file = open ('URL_47.txt','w')\n",
        "file.write(my_article_11)\n",
        "file.close ()"
      ],
      "metadata": {
        "id": "P86MUusPxXOL"
      },
      "execution_count": null,
      "outputs": []
    },
    {
      "cell_type": "markdown",
      "source": [
        "# URL_48"
      ],
      "metadata": {
        "id": "SlLwWQrsyj0a"
      }
    },
    {
      "cell_type": "code",
      "source": [
        "r = urllib.request.urlopen('https://insights.blackcoffer.com/how-machines-ai-automations-and-robo-human-are-effective-in-finance-and-banking/').read()\n",
        "soup = BeautifulSoup(r, \"lxml\")\n",
        "type(soup)\n",
        "my_article_12=soup.article.get_text()\n",
        "file = open ('URL_48.txt','w')\n",
        "file.write(my_article_12)\n",
        "file.close ()"
      ],
      "metadata": {
        "id": "giDNxa1txXLZ"
      },
      "execution_count": null,
      "outputs": []
    },
    {
      "cell_type": "markdown",
      "source": [
        "# URL_49"
      ],
      "metadata": {
        "id": "qczvO5T2ylx8"
      }
    },
    {
      "cell_type": "code",
      "source": [
        "r = urllib.request.urlopen('https://insights.blackcoffer.com/ai-human-robotics-machine-future-planet-blackcoffer-thinking-jobs-workplace/').read()\n",
        "soup = BeautifulSoup(r, \"lxml\")\n",
        "type(soup)\n",
        "my_article_13=soup.article.get_text()\n",
        "file = open ('URL_49.txt','w')\n",
        "file.write(my_article_13)\n",
        "file.close ()"
      ],
      "metadata": {
        "id": "gLq8bYFHxXIj"
      },
      "execution_count": null,
      "outputs": []
    },
    {
      "cell_type": "markdown",
      "source": [
        "# URL_50"
      ],
      "metadata": {
        "id": "zJcci3l_yn8x"
      }
    },
    {
      "cell_type": "code",
      "source": [
        "r = urllib.request.urlopen('https://insights.blackcoffer.com/how-ai-will-change-the-world-blackcoffer/').read()\n",
        "soup = BeautifulSoup(r, \"lxml\")\n",
        "type(soup)\n",
        "my_article_14=soup.article.get_text()\n",
        "file = open ('URL_50.txt','w')\n",
        "file.write(my_article_14)\n",
        "file.close()"
      ],
      "metadata": {
        "id": "ATwOJaHlxXFt"
      },
      "execution_count": null,
      "outputs": []
    },
    {
      "cell_type": "markdown",
      "source": [
        "# URL_51"
      ],
      "metadata": {
        "id": "qj69jK2pyqIW"
      }
    },
    {
      "cell_type": "code",
      "source": [
        "r = urllib.request.urlopen('https://insights.blackcoffer.com/future-of-work-how-ai-has-entered-the-workplace/').read()\n",
        "soup = BeautifulSoup(r, \"lxml\")\n",
        "type(soup)\n",
        "my_article_15=soup.article.get_text()\n",
        "file = open ('URL_51.txt','w')\n",
        "file.write(my_article_15)\n",
        "file.close()"
      ],
      "metadata": {
        "id": "bEddFUtRxXC3"
      },
      "execution_count": null,
      "outputs": []
    },
    {
      "cell_type": "markdown",
      "source": [
        "# URL_52"
      ],
      "metadata": {
        "id": "j4Nm7tKByr7s"
      }
    },
    {
      "cell_type": "code",
      "source": [
        "r = urllib.request.urlopen('https://insights.blackcoffer.com/ai-tool-alexa-google-assistant-finance-banking-tool-future/').read()\n",
        "soup = BeautifulSoup(r, \"lxml\")\n",
        "type(soup)\n",
        "my_article_16=soup.article.get_text()\n",
        "file = open ('URL_52.txt','w')\n",
        "file.write(my_article_16)\n",
        "file.close ()"
      ],
      "metadata": {
        "id": "KjvhC5wKxXAB"
      },
      "execution_count": null,
      "outputs": []
    },
    {
      "cell_type": "markdown",
      "source": [
        "# URL_53"
      ],
      "metadata": {
        "id": "D1XbQXJgyuJp"
      }
    },
    {
      "cell_type": "code",
      "source": [
        "r = urllib.request.urlopen('https://insights.blackcoffer.com/ai-healthcare-revolution-ml-technology-algorithm-google-analytics-industrialrevolution/').read()\n",
        "soup = BeautifulSoup(r, \"lxml\")\n",
        "type(soup)\n",
        "my_article_17=soup.article.get_text()\n",
        "file = open ('URL_53.txt','w')\n",
        "file.write(my_article_17)\n",
        "file.close ()"
      ],
      "metadata": {
        "id": "B-b1UXVuxW9N"
      },
      "execution_count": null,
      "outputs": []
    },
    {
      "cell_type": "markdown",
      "source": [
        "# URL_54"
      ],
      "metadata": {
        "id": "WXBND6PJyv7L"
      }
    },
    {
      "cell_type": "code",
      "source": [
        "r = urllib.request.urlopen('https://insights.blackcoffer.com/all-you-need-to-know-about-online-marketing/').read()\n",
        "soup = BeautifulSoup(r, \"lxml\")\n",
        "type(soup)\n",
        "my_article_18=soup.article.get_text()\n",
        "file = open ('URL_54.txt','w')\n",
        "file.write(my_article_18)\n",
        "file.close ()"
      ],
      "metadata": {
        "id": "FZQZMQaSxW6f"
      },
      "execution_count": null,
      "outputs": []
    },
    {
      "cell_type": "markdown",
      "source": [
        "# URL_55"
      ],
      "metadata": {
        "id": "Bg9jfCtdyxkq"
      }
    },
    {
      "cell_type": "code",
      "source": [
        "r = urllib.request.urlopen('https://insights.blackcoffer.com/evolution-of-advertising-industry/').read()\n",
        "soup = BeautifulSoup(r, \"lxml\")\n",
        "type(soup)\n",
        "my_article_19=soup.article.get_text()\n",
        "file = open ('URL_55.txt','w')\n",
        "file.write(my_article_19)\n",
        "file.close ()"
      ],
      "metadata": {
        "id": "G4APLblKxW3n"
      },
      "execution_count": null,
      "outputs": []
    },
    {
      "cell_type": "markdown",
      "source": [
        "# URL_56"
      ],
      "metadata": {
        "id": "uKIGtTUkyzcM"
      }
    },
    {
      "cell_type": "code",
      "source": [
        "r = urllib.request.urlopen('https://insights.blackcoffer.com/how-data-analytics-can-help-your-business-respond-to-the-impact-of-covid-19/').read()\n",
        "soup = BeautifulSoup(r, \"lxml\")\n",
        "type(soup)\n",
        "my_article_20=soup.article.get_text()\n",
        "file = open ('URL_56.txt','w')\n",
        "file.write(my_article_20)\n",
        "file.close ()"
      ],
      "metadata": {
        "id": "19FSEOZbxW0z"
      },
      "execution_count": null,
      "outputs": []
    },
    {
      "cell_type": "markdown",
      "source": [
        "# URL_57"
      ],
      "metadata": {
        "id": "LJUApJlAy1Ox"
      }
    },
    {
      "cell_type": "markdown",
      "source": [
        "# URL_58"
      ],
      "metadata": {
        "id": "ZVe9qhvdy3EP"
      }
    },
    {
      "cell_type": "code",
      "source": [
        "r = urllib.request.urlopen('https://insights.blackcoffer.com/environmental-impact-of-the-covid-19-pandemic-lesson-for-the-future/').read()\n",
        "soup = BeautifulSoup(r, \"lxml\")\n",
        "type(soup)\n",
        "my_article_23=soup.article.get_text()\n",
        "file = open ('URL_58.txt','w')\n",
        "file.write(my_article_23)\n",
        "file.close ()"
      ],
      "metadata": {
        "id": "dJjXnE0yxWvS"
      },
      "execution_count": null,
      "outputs": []
    },
    {
      "cell_type": "markdown",
      "source": [
        "# URL_59"
      ],
      "metadata": {
        "id": "Cxazwwd4y5sc"
      }
    },
    {
      "cell_type": "code",
      "source": [
        "r = urllib.request.urlopen('https://insights.blackcoffer.com/how-data-analytics-and-ai-are-used-to-halt-the-covid-19-pandemic/').read()\n",
        "soup = BeautifulSoup(r, \"lxml\")\n",
        "type(soup)\n",
        "my_article_24=soup.article.get_text()\n",
        "file = open ('URL_59.txt','w')\n",
        "file.write(my_article_24)\n",
        "file.close ()"
      ],
      "metadata": {
        "id": "GIMtjXhixWsk"
      },
      "execution_count": null,
      "outputs": []
    },
    {
      "cell_type": "markdown",
      "source": [
        "# URL_60"
      ],
      "metadata": {
        "id": "TBIsf7zSy8tr"
      }
    },
    {
      "cell_type": "code",
      "source": [
        "r = urllib.request.urlopen('https://insights.blackcoffer.com/difference-between-artificial-intelligence-machine-learning-statistics-and-data-mining/').read()\n",
        "soup = BeautifulSoup(r, \"lxml\")\n",
        "type(soup)\n",
        "my_article_25=soup.article.get_text()\n",
        "file = open ('URL_60.txt','w')\n",
        "file.write(my_article_25)\n",
        "file.close ()"
      ],
      "metadata": {
        "id": "P5UWrUuixWp6"
      },
      "execution_count": null,
      "outputs": []
    },
    {
      "cell_type": "markdown",
      "source": [
        "# URL_61"
      ],
      "metadata": {
        "id": "TusAbnhey-Yd"
      }
    },
    {
      "cell_type": "code",
      "source": [
        "r = urllib.request.urlopen('https://insights.blackcoffer.com/how-python-became-the-first-choice-for-data-science/').read()\n",
        "soup = BeautifulSoup(r, \"lxml\")\n",
        "type(soup)\n",
        "my_article_26=soup.article.get_text()\n",
        "file = open ('URL_61.txt','w')\n",
        "file.write(my_article_26)\n",
        "file.close ()"
      ],
      "metadata": {
        "id": "ZYb59NwLxWnR"
      },
      "execution_count": null,
      "outputs": []
    },
    {
      "cell_type": "markdown",
      "source": [
        "# URL_62"
      ],
      "metadata": {
        "id": "dGcvoyFezCqs"
      }
    },
    {
      "cell_type": "code",
      "source": [
        "r = urllib.request.urlopen('https://insights.blackcoffer.com/how-google-fit-measure-heart-and-respiratory-rates-using-a-phone/').read()\n",
        "soup = BeautifulSoup(r, \"lxml\")\n",
        "type(soup)\n",
        "my_article_27=soup.article.get_text()\n",
        "file = open ('URL_62.txt','w')\n",
        "file.write(my_article_27)\n",
        "file.close ()"
      ],
      "metadata": {
        "id": "Fk8lLTlyxWkm"
      },
      "execution_count": null,
      "outputs": []
    },
    {
      "cell_type": "markdown",
      "source": [
        "# URL_63"
      ],
      "metadata": {
        "id": "87La0kDlzECv"
      }
    },
    {
      "cell_type": "code",
      "source": [
        "r = urllib.request.urlopen('https://insights.blackcoffer.com/what-is-the-future-of-mobile-apps/').read()\n",
        "soup = BeautifulSoup(r, \"lxml\")\n",
        "type(soup)\n",
        "my_article_28=soup.article.get_text()\n",
        "file = open ('URL_63.txt','w')\n",
        "file.write(my_article_28)\n",
        "file.close ()"
      ],
      "metadata": {
        "id": "TX9KQBuaxWh_"
      },
      "execution_count": null,
      "outputs": []
    },
    {
      "cell_type": "markdown",
      "source": [
        "# URL_64"
      ],
      "metadata": {
        "id": "wFOhyHxlzFhw"
      }
    },
    {
      "cell_type": "code",
      "source": [
        "r = urllib.request.urlopen('https://insights.blackcoffer.com/impact-of-ai-in-health-and-medicine/').read()\n",
        "soup = BeautifulSoup(r, \"lxml\")\n",
        "type(soup)\n",
        "my_article_29=soup.article.get_text()\n",
        "file = open ('URL_64.txt','w')\n",
        "file.write(my_article_29)\n",
        "file.close ()"
      ],
      "metadata": {
        "id": "QRq0yMplxWeX"
      },
      "execution_count": null,
      "outputs": []
    },
    {
      "cell_type": "markdown",
      "source": [
        "# URL_65"
      ],
      "metadata": {
        "id": "PcmW9kytzGnS"
      }
    },
    {
      "cell_type": "code",
      "source": [
        "r = urllib.request.urlopen('https://insights.blackcoffer.com/telemedicine-what-patients-like-and-dislike-about-it/').read()\n",
        "soup = BeautifulSoup(r, \"lxml\")\n",
        "type(soup)\n",
        "my_article_30=soup.article.get_text()\n",
        "file = open ('URL_65.txt','w')\n",
        "file.write(my_article_30)\n",
        "file.close()"
      ],
      "metadata": {
        "id": "TFdFP9EMxWY6"
      },
      "execution_count": null,
      "outputs": []
    },
    {
      "cell_type": "markdown",
      "source": [
        "# URL_66"
      ],
      "metadata": {
        "id": "8wjTf0Br2rQJ"
      }
    },
    {
      "cell_type": "code",
      "source": [
        "r = urllib.request.urlopen('https://insights.blackcoffer.com/how-we-forecast-future-technologies/').read()\n",
        "soup = BeautifulSoup(r, \"lxml\")\n",
        "type(soup)\n",
        "my_article_31=soup.article.get_text()\n",
        "file = open ('URL_66.txt','w')\n",
        "file.write(my_article_31)\n",
        "file.close()"
      ],
      "metadata": {
        "id": "wk68E9ol2qau"
      },
      "execution_count": null,
      "outputs": []
    },
    {
      "cell_type": "markdown",
      "source": [
        "# URL_67"
      ],
      "metadata": {
        "id": "oIMtx1Af2vmR"
      }
    },
    {
      "cell_type": "code",
      "source": [
        "r = urllib.request.urlopen('https://insights.blackcoffer.com/can-robots-tackle-late-life-loneliness/').read()\n",
        "soup = BeautifulSoup(r, \"lxml\")\n",
        "type(soup)\n",
        "my_article_32=soup.article.get_text()\n",
        "file = open ('URL_67.txt','w')\n",
        "file.write(my_article_32)\n",
        "file.close()"
      ],
      "metadata": {
        "id": "IP4lQISS2qVn"
      },
      "execution_count": null,
      "outputs": []
    },
    {
      "cell_type": "markdown",
      "source": [
        "# URL_68"
      ],
      "metadata": {
        "id": "ptjC7Dql2ybi"
      }
    },
    {
      "cell_type": "code",
      "source": [
        "r = urllib.request.urlopen('https://insights.blackcoffer.com/embedding-care-robots-into-society-socio-technical-considerations/').read()\n",
        "soup = BeautifulSoup(r, \"lxml\")\n",
        "type(soup)\n",
        "my_article_33=soup.article.get_text()\n",
        "file = open ('URL_68.txt','w')\n",
        "file.write(my_article_33)\n",
        "file.close()"
      ],
      "metadata": {
        "id": "0P-th7IP2qPF"
      },
      "execution_count": null,
      "outputs": []
    },
    {
      "cell_type": "markdown",
      "source": [
        "# URL_69"
      ],
      "metadata": {
        "id": "xQ6-uZhy2z88"
      }
    },
    {
      "cell_type": "code",
      "source": [
        "r = urllib.request.urlopen('https://insights.blackcoffer.com/management-challenges-for-future-digitalization-of-healthcare-services/').read()\n",
        "soup = BeautifulSoup(r, \"lxml\")\n",
        "type(soup)\n",
        "my_article_34=soup.article.get_text()\n",
        "file = open ('URL_69.txt','w')\n",
        "file.write(my_article_34)\n",
        "file.close()"
      ],
      "metadata": {
        "id": "P7H6u90j2qKJ"
      },
      "execution_count": null,
      "outputs": []
    },
    {
      "cell_type": "markdown",
      "source": [
        "# URL_70"
      ],
      "metadata": {
        "id": "EDDEIHfy21zs"
      }
    },
    {
      "cell_type": "code",
      "source": [
        "r = urllib.request.urlopen('https://insights.blackcoffer.com/are-we-any-closer-to-preventing-a-nuclear-holocaust/').read()\n",
        "soup = BeautifulSoup(r, \"lxml\")\n",
        "type(soup)\n",
        "my_article_35=soup.article.get_text()\n",
        "file = open ('URL_70.txt','w')\n",
        "file.write(my_article_35)\n",
        "file.close()"
      ],
      "metadata": {
        "id": "K7l-gaIv2qFh"
      },
      "execution_count": null,
      "outputs": []
    },
    {
      "cell_type": "markdown",
      "source": [
        "# URL_71"
      ],
      "metadata": {
        "id": "GMSUO66j25YF"
      }
    },
    {
      "cell_type": "code",
      "source": [
        "r = urllib.request.urlopen('https://insights.blackcoffer.com/will-technology-eliminate-the-need-for-animal-testing-in-drug-development/').read()\n",
        "soup = BeautifulSoup(r, \"lxml\")\n",
        "type(soup)\n",
        "my_article_36=soup.article.get_text()\n",
        "file = open ('URL_71.txt','w')\n",
        "file.write(my_article_36)\n",
        "file.close()"
      ],
      "metadata": {
        "id": "SyIeOa_w2qAu"
      },
      "execution_count": null,
      "outputs": []
    },
    {
      "cell_type": "markdown",
      "source": [
        "# URL_72"
      ],
      "metadata": {
        "id": "wR5s0yp927PW"
      }
    },
    {
      "cell_type": "code",
      "source": [
        "r = urllib.request.urlopen('https://insights.blackcoffer.com/will-we-ever-understand-the-nature-of-consciousness/').read()\n",
        "soup = BeautifulSoup(r, \"lxml\")\n",
        "type(soup)\n",
        "my_article_37=soup.article.get_text()\n",
        "file = open ('URL_72.txt','w')\n",
        "file.write(my_article_37)\n",
        "file.close()"
      ],
      "metadata": {
        "id": "KNa0rzwy2p8B"
      },
      "execution_count": null,
      "outputs": []
    },
    {
      "cell_type": "markdown",
      "source": [
        "# URL_73"
      ],
      "metadata": {
        "id": "3hW1NILp28uK"
      }
    },
    {
      "cell_type": "code",
      "source": [
        "r = urllib.request.urlopen('https://insights.blackcoffer.com/will-we-ever-understand-the-nature-of-consciousness/').read()\n",
        "soup = BeautifulSoup(r, \"lxml\")\n",
        "type(soup)\n",
        "my_article_38=soup.article.get_text()\n",
        "file = open ('URL_73.txt','w')\n",
        "file.write(my_article_38)\n",
        "file.close()"
      ],
      "metadata": {
        "id": "mfGGJd4p2p3R"
      },
      "execution_count": null,
      "outputs": []
    },
    {
      "cell_type": "markdown",
      "source": [
        "# URL_74"
      ],
      "metadata": {
        "id": "AWmKl7PB29zb"
      }
    },
    {
      "cell_type": "code",
      "source": [
        "r = urllib.request.urlopen('https://insights.blackcoffer.com/what-is-the-chance-homo-sapiens-will-survive-for-the-next-500-years/').read()\n",
        "soup = BeautifulSoup(r, \"lxml\")\n",
        "type(soup)\n",
        "my_article_39=soup.article.get_text()\n",
        "file = open ('URL_74.txt','w')\n",
        "file.write(my_article_39)\n",
        "file.close()"
      ],
      "metadata": {
        "id": "oAZTyXLv2pyc"
      },
      "execution_count": null,
      "outputs": []
    },
    {
      "cell_type": "markdown",
      "source": [
        "# URL_75"
      ],
      "metadata": {
        "id": "w0tCb7BQ2-6_"
      }
    },
    {
      "cell_type": "code",
      "source": [
        "r = urllib.request.urlopen('https://insights.blackcoffer.com/why-does-your-business-need-a-chatbot/').read()\n",
        "soup = BeautifulSoup(r, \"lxml\")\n",
        "type(soup)\n",
        "my_article_40=soup.article.get_text()\n",
        "file = open ('URL_75.txt','w')\n",
        "file.write(my_article_40)\n",
        "file.close()"
      ],
      "metadata": {
        "id": "j4KwuQKj2ptp"
      },
      "execution_count": null,
      "outputs": []
    },
    {
      "cell_type": "markdown",
      "source": [
        "# URL_76"
      ],
      "metadata": {
        "id": "05s6eZcd3AG1"
      }
    },
    {
      "cell_type": "code",
      "source": [
        "r = urllib.request.urlopen('https://insights.blackcoffer.com/how-you-lead-a-project-or-a-team-without-any-technical-expertise/').read()\n",
        "soup = BeautifulSoup(r, \"lxml\")\n",
        "type(soup)\n",
        "my_article_41=soup.article.get_text()\n",
        "file = open ('URL_76.txt','w')\n",
        "file.write(my_article_41)\n",
        "file.close()"
      ],
      "metadata": {
        "id": "SOrTQciy2poz"
      },
      "execution_count": null,
      "outputs": []
    },
    {
      "cell_type": "markdown",
      "source": [
        "# URL_77"
      ],
      "metadata": {
        "id": "cw3Eg88w3Bns"
      }
    },
    {
      "cell_type": "code",
      "source": [
        "r = urllib.request.urlopen('https://insights.blackcoffer.com/can-you-be-great-leader-without-technical-expertise/').read()\n",
        "soup = BeautifulSoup(r, \"lxml\")\n",
        "type(soup)\n",
        "my_article_42=soup.article.get_text()\n",
        "file = open ('URL_77.txt','w')\n",
        "file.write(my_article_42)\n",
        "file.close()"
      ],
      "metadata": {
        "id": "EgqqvypR2pkS"
      },
      "execution_count": null,
      "outputs": []
    },
    {
      "cell_type": "markdown",
      "source": [
        "# URL_78"
      ],
      "metadata": {
        "id": "FmGqpFZM3DSN"
      }
    },
    {
      "cell_type": "code",
      "source": [
        "r = urllib.request.urlopen('https://insights.blackcoffer.com/how-does-artificial-intelligence-affect-the-environment/').read()\n",
        "soup = BeautifulSoup(r, \"lxml\")\n",
        "type(soup)\n",
        "my_article_43=soup.article.get_text()\n",
        "file = open ('URL_78.txt','w')\n",
        "file.write(my_article_43)\n",
        "file.close()"
      ],
      "metadata": {
        "id": "M3tPPgwp2pfo"
      },
      "execution_count": null,
      "outputs": []
    },
    {
      "cell_type": "markdown",
      "source": [
        "# URL_79"
      ],
      "metadata": {
        "id": "xcLf3rUj3Etn"
      }
    },
    {
      "cell_type": "code",
      "source": [
        "r = urllib.request.urlopen('https://insights.blackcoffer.com/how-to-overcome-your-fear-of-making-mistakes-2/').read()\n",
        "soup = BeautifulSoup(r, \"lxml\")\n",
        "type(soup)\n",
        "my_article_44=soup.article.get_text()\n",
        "file = open ('URL_79.txt','w')\n",
        "file.write(my_article_44)\n",
        "file.close()"
      ],
      "metadata": {
        "id": "gfoq-fJG2pa_"
      },
      "execution_count": null,
      "outputs": []
    },
    {
      "cell_type": "markdown",
      "source": [
        "# URL_80"
      ],
      "metadata": {
        "id": "FxajZsFZ3GZZ"
      }
    },
    {
      "cell_type": "code",
      "source": [
        "r = urllib.request.urlopen('https://insights.blackcoffer.com/is-perfection-the-greatest-enemy-of-productivity/').read()\n",
        "soup = BeautifulSoup(r, \"lxml\")\n",
        "type(soup)\n",
        "my_article_45=soup.article.get_text()\n",
        "file = open ('URL_80.txt','w')\n",
        "file.write(my_article_45)\n",
        "file.close()"
      ],
      "metadata": {
        "id": "o7S8YstV2pWO"
      },
      "execution_count": null,
      "outputs": []
    },
    {
      "cell_type": "markdown",
      "source": [
        "# URL_81"
      ],
      "metadata": {
        "id": "LniyygOa3JER"
      }
    },
    {
      "cell_type": "code",
      "source": [
        "r = urllib.request.urlopen('https://insights.blackcoffer.com/global-financial-crisis-2008-causes-effects-and-its-solution/').read()\n",
        "soup = BeautifulSoup(r, \"lxml\")\n",
        "type(soup)\n",
        "my_article_46=soup.article.get_text()\n",
        "file = open ('URL_81.txt','w')\n",
        "file.write(my_article_46)\n",
        "file.close()"
      ],
      "metadata": {
        "id": "Zur1-Nj12pRS"
      },
      "execution_count": null,
      "outputs": []
    },
    {
      "cell_type": "markdown",
      "source": [
        "# URL_82"
      ],
      "metadata": {
        "id": "4gjxkBkq3KS6"
      }
    },
    {
      "cell_type": "code",
      "source": [
        "r = urllib.request.urlopen('https://insights.blackcoffer.com/gender-diversity-and-equality-in-the-tech-industry/').read()\n",
        "soup = BeautifulSoup(r, \"lxml\")\n",
        "type(soup)\n",
        "my_article_47=soup.article.get_text()\n",
        "file = open ('URL_82.txt','w')\n",
        "file.write(my_article_47)\n",
        "file.close()"
      ],
      "metadata": {
        "id": "5sdqo1so2pMo"
      },
      "execution_count": null,
      "outputs": []
    },
    {
      "cell_type": "markdown",
      "source": [
        "# URL_83"
      ],
      "metadata": {
        "id": "qR4lDhmi3LeL"
      }
    },
    {
      "cell_type": "code",
      "source": [
        "r = urllib.request.urlopen('https://insights.blackcoffer.com/how-to-overcome-your-fear-of-making-mistakes/').read()\n",
        "soup = BeautifulSoup(r, \"lxml\")\n",
        "type(soup)\n",
        "my_article_48=soup.article.get_text()\n",
        "file = open ('URL_83.txt','w')\n",
        "file.write(my_article_48)\n",
        "file.close()"
      ],
      "metadata": {
        "id": "358Ix8mH2pH4"
      },
      "execution_count": null,
      "outputs": []
    },
    {
      "cell_type": "markdown",
      "source": [
        "# URL_84"
      ],
      "metadata": {
        "id": "9gLcBe-53NGn"
      }
    },
    {
      "cell_type": "code",
      "source": [
        "r = urllib.request.urlopen('https://insights.blackcoffer.com/how-small-business-can-survive-the-coronavirus-crisis/').read()\n",
        "soup = BeautifulSoup(r, \"lxml\")\n",
        "type(soup)\n",
        "my_article_49=soup.article.get_text()\n",
        "file = open ('URL_84.txt','w')\n",
        "file.write(my_article_49)\n",
        "file.close()"
      ],
      "metadata": {
        "id": "OLKS1IDZ2pCj"
      },
      "execution_count": null,
      "outputs": []
    },
    {
      "cell_type": "markdown",
      "source": [
        "# URL_85"
      ],
      "metadata": {
        "id": "YzKGxPyq3Or6"
      }
    },
    {
      "cell_type": "code",
      "source": [
        "r = urllib.request.urlopen('https://insights.blackcoffer.com/impacts-of-covid-19-on-vegetable-vendors-and-food-stalls/').read()\n",
        "soup = BeautifulSoup(r, \"lxml\")\n",
        "type(soup)\n",
        "my_article_50=soup.article.get_text()\n",
        "file = open ('URL_85.txt','w')\n",
        "file.write(my_article_50)\n",
        "file.close()"
      ],
      "metadata": {
        "id": "ML50kU-S2o-I"
      },
      "execution_count": null,
      "outputs": []
    },
    {
      "cell_type": "markdown",
      "source": [
        "# URL_86"
      ],
      "metadata": {
        "id": "iqshntQS3QYv"
      }
    },
    {
      "cell_type": "code",
      "source": [
        "r = urllib.request.urlopen('https://insights.blackcoffer.com/impacts-of-covid-19-on-vegetable-vendors/').read()\n",
        "soup = BeautifulSoup(r, \"lxml\")\n",
        "type(soup)\n",
        "my_article_51=soup.article.get_text()\n",
        "file = open ('URL_86.txt','w')\n",
        "file.write(my_article_51)\n",
        "file.close()"
      ],
      "metadata": {
        "id": "oUEfYr9-2o50"
      },
      "execution_count": null,
      "outputs": []
    },
    {
      "cell_type": "markdown",
      "source": [
        "# URL_87"
      ],
      "metadata": {
        "id": "XLheOxLX3Rwi"
      }
    },
    {
      "cell_type": "code",
      "source": [
        "r = urllib.request.urlopen('https://insights.blackcoffer.com/impact-of-covid-19-pandemic-on-tourism-aviation-industries/').read()\n",
        "soup = BeautifulSoup(r, \"lxml\")\n",
        "type(soup)\n",
        "my_article_52=soup.article.get_text()\n",
        "file = open ('URL_87.txt','w')\n",
        "file.write(my_article_52)\n",
        "file.close()"
      ],
      "metadata": {
        "id": "EuQsZzci2o1i"
      },
      "execution_count": null,
      "outputs": []
    },
    {
      "cell_type": "markdown",
      "source": [
        "# URL_88"
      ],
      "metadata": {
        "id": "8FBVo7Ct3S8V"
      }
    },
    {
      "cell_type": "code",
      "source": [
        "r = urllib.request.urlopen('https://insights.blackcoffer.com/impact-of-covid-19-pandemic-on-sports-events-around-the-world/').read()\n",
        "soup = BeautifulSoup(r, \"lxml\")\n",
        "type(soup)\n",
        "my_article_53=soup.article.get_text()\n",
        "file = open ('URL_88.txt','w')\n",
        "file.write(my_article_53)\n",
        "file.close()"
      ],
      "metadata": {
        "id": "yAvgSnmu2oxP"
      },
      "execution_count": null,
      "outputs": []
    },
    {
      "cell_type": "markdown",
      "source": [
        "# URL_89"
      ],
      "metadata": {
        "id": "yYXt4wZF3T_h"
      }
    },
    {
      "cell_type": "code",
      "source": [
        "r = urllib.request.urlopen('https://insights.blackcoffer.com/changing-landscape-and-emerging-trends-in-the-indian-it-ites-industry/').read()\n",
        "soup = BeautifulSoup(r, \"lxml\")\n",
        "type(soup)\n",
        "my_article_54=soup.article.get_text()\n",
        "file = open ('URL_89.txt','w')\n",
        "file.write(my_article_54)\n",
        "file.close()"
      ],
      "metadata": {
        "id": "kppl2G5E2os6"
      },
      "execution_count": null,
      "outputs": []
    },
    {
      "cell_type": "markdown",
      "source": [
        "# URL_90"
      ],
      "metadata": {
        "id": "_1-X2YIt3Vg4"
      }
    },
    {
      "cell_type": "code",
      "source": [
        "r = urllib.request.urlopen('https://insights.blackcoffer.com/online-gaming-adolescent-online-gaming-effects-demotivated-depression-musculoskeletal-and-psychosomatic-symptoms/').read()\n",
        "soup = BeautifulSoup(r, \"lxml\")\n",
        "type(soup)\n",
        "my_article_55=soup.article.get_text()\n",
        "file = open ('URL_90.txt','w')\n",
        "file.write(my_article_55)\n",
        "file.close()"
      ],
      "metadata": {
        "id": "aAbbQJ772oov"
      },
      "execution_count": null,
      "outputs": []
    },
    {
      "cell_type": "markdown",
      "source": [
        "# URL_91"
      ],
      "metadata": {
        "id": "DsonGaGZ3Xu0"
      }
    },
    {
      "cell_type": "code",
      "source": [
        "r = urllib.request.urlopen('https://insights.blackcoffer.com/human-rights-outlook/').read()\n",
        "soup = BeautifulSoup(r, \"lxml\")\n",
        "type(soup)\n",
        "my_article_56=soup.article.get_text()\n",
        "file = open ('URL_91.txt','w')\n",
        "file.write(my_article_56)\n",
        "file.close()"
      ],
      "metadata": {
        "id": "Xdd3MXoi2okj"
      },
      "execution_count": null,
      "outputs": []
    },
    {
      "cell_type": "markdown",
      "source": [
        "# URL_92"
      ],
      "metadata": {
        "id": "B4zd-1V_3Y5C"
      }
    },
    {
      "cell_type": "code",
      "source": [
        "r = urllib.request.urlopen('https://insights.blackcoffer.com/how-voice-search-makes-your-business-a-successful-business/').read()\n",
        "soup = BeautifulSoup(r, \"lxml\")\n",
        "type(soup)\n",
        "my_article_57=soup.article.get_text()\n",
        "file = open ('URL_92.txt','w')\n",
        "file.write(my_article_57)\n",
        "file.close()"
      ],
      "metadata": {
        "id": "SZ7shxuX2ogT"
      },
      "execution_count": null,
      "outputs": []
    },
    {
      "cell_type": "markdown",
      "source": [
        "# URL_93"
      ],
      "metadata": {
        "id": "ciZ3hn553aJg"
      }
    },
    {
      "cell_type": "code",
      "source": [
        "r = urllib.request.urlopen('https://insights.blackcoffer.com/how-the-covid-19-crisis-is-redefining-jobs-and-services/').read()\n",
        "soup = BeautifulSoup(r, \"lxml\")\n",
        "type(soup)\n",
        "my_article_58=soup.article.get_text()\n",
        "file = open ('URL_93.txt','w')\n",
        "file.write(my_article_58)\n",
        "file.close()"
      ],
      "metadata": {
        "id": "QT-JpITz2ob5"
      },
      "execution_count": null,
      "outputs": []
    },
    {
      "cell_type": "markdown",
      "source": [
        "# URL_94"
      ],
      "metadata": {
        "id": "j4Gq9YDU3bL8"
      }
    },
    {
      "cell_type": "code",
      "source": [
        "r = urllib.request.urlopen('https://insights.blackcoffer.com/how-to-increase-social-media-engagement-for-marketers/').read()\n",
        "soup = BeautifulSoup(r, \"lxml\")\n",
        "type(soup)\n",
        "my_article_59=soup.article.get_text()\n",
        "file = open ('URL_94.txt','w')\n",
        "file.write(my_article_59)\n",
        "file.close()"
      ],
      "metadata": {
        "id": "rZdOqa9Y2oXk"
      },
      "execution_count": null,
      "outputs": []
    },
    {
      "cell_type": "markdown",
      "source": [
        "# URL_95"
      ],
      "metadata": {
        "id": "pm07lT_L3cVY"
      }
    },
    {
      "cell_type": "code",
      "source": [
        "r = urllib.request.urlopen('https://insights.blackcoffer.com/impacts-of-covid-19-on-streets-sides-food-stalls/').read()\n",
        "soup = BeautifulSoup(r, \"lxml\")\n",
        "type(soup)\n",
        "my_article_60=soup.article.get_text()\n",
        "file = open ('URL_95.txt','w')\n",
        "file.write(my_article_60)\n",
        "file.close()"
      ],
      "metadata": {
        "id": "2z11rVCt2oTV"
      },
      "execution_count": null,
      "outputs": []
    },
    {
      "cell_type": "markdown",
      "source": [
        "# URL_96"
      ],
      "metadata": {
        "id": "ZyMvEwQM3dYB"
      }
    },
    {
      "cell_type": "code",
      "source": [
        "r = urllib.request.urlopen('https://insights.blackcoffer.com/coronavirus-impact-on-energy-markets-2/').read()\n",
        "soup = BeautifulSoup(r, \"lxml\")\n",
        "type(soup)\n",
        "my_article_61=soup.article.get_text()\n",
        "file = open ('URL_96.txt','w')\n",
        "file.write(my_article_61)\n",
        "file.close()"
      ],
      "metadata": {
        "id": "6m221aak2oO7"
      },
      "execution_count": null,
      "outputs": []
    },
    {
      "cell_type": "markdown",
      "source": [
        "# URL_97"
      ],
      "metadata": {
        "id": "_JFi6XtV3e6u"
      }
    },
    {
      "cell_type": "code",
      "source": [
        "r = urllib.request.urlopen('https://insights.blackcoffer.com/coronavirus-impact-on-the-hospitality-industry-5/').read()\n",
        "soup = BeautifulSoup(r, \"lxml\")\n",
        "type(soup)\n",
        "my_article_62=soup.article.get_text()\n",
        "file = open ('URL_97.txt','w')\n",
        "file.write(my_article_62)\n",
        "file.close()"
      ],
      "metadata": {
        "id": "Wu0Bw78l2oK0"
      },
      "execution_count": null,
      "outputs": []
    },
    {
      "cell_type": "markdown",
      "source": [
        "# URL_98"
      ],
      "metadata": {
        "id": "vG6-MGpG3gD5"
      }
    },
    {
      "cell_type": "code",
      "source": [
        "r = urllib.request.urlopen('https://insights.blackcoffer.com/lessons-from-the-past-some-key-learnings-relevant-to-the-coronavirus-crisis-4/').read()\n",
        "soup = BeautifulSoup(r, \"lxml\")\n",
        "type(soup)\n",
        "my_article_63=soup.article.get_text()\n",
        "file = open ('URL_98.txt','w')\n",
        "file.write(my_article_63)\n",
        "file.close()"
      ],
      "metadata": {
        "id": "d3Ym-VYL2oGp"
      },
      "execution_count": null,
      "outputs": []
    },
    {
      "cell_type": "markdown",
      "source": [
        "# URL_99"
      ],
      "metadata": {
        "id": "Yp7h-kez3hKu"
      }
    },
    {
      "cell_type": "code",
      "source": [
        "r = urllib.request.urlopen('https://insights.blackcoffer.com/estimating-the-impact-of-covid-19-on-the-world-of-work-2/').read()\n",
        "soup = BeautifulSoup(r, \"lxml\")\n",
        "type(soup)\n",
        "my_article_64=soup.article.get_text()\n",
        "file = open ('URL_99.txt','w')\n",
        "file.write(my_article_64)\n",
        "file.close()"
      ],
      "metadata": {
        "id": "MsvD1SGv2oCb"
      },
      "execution_count": null,
      "outputs": []
    },
    {
      "cell_type": "markdown",
      "source": [
        "# URL_100"
      ],
      "metadata": {
        "id": "mk7jMTZ73iWh"
      }
    },
    {
      "cell_type": "code",
      "source": [
        "r = urllib.request.urlopen('https://insights.blackcoffer.com/estimating-the-impact-of-covid-19-on-the-world-of-work-3/').read()\n",
        "soup = BeautifulSoup(r, \"lxml\")\n",
        "type(soup)\n",
        "my_article_65=soup.article.get_text()\n",
        "file = open ('URL_100.txt','w')\n",
        "file.write(my_article_65)\n",
        "file.close()"
      ],
      "metadata": {
        "id": "zDNWSj8f2n-P"
      },
      "execution_count": null,
      "outputs": []
    },
    {
      "cell_type": "markdown",
      "source": [
        "# URL_101"
      ],
      "metadata": {
        "id": "HP5gkv7GWuLp"
      }
    },
    {
      "cell_type": "code",
      "source": [
        "r = urllib.request.urlopen('https://insights.blackcoffer.com/travel-and-tourism-outlook/').read()\n",
        "soup = BeautifulSoup(r, \"lxml\")\n",
        "type(soup)\n",
        "my_article_66=soup.article.get_text()\n",
        "file = open ('URL_101.txt','w')\n",
        "file.write(my_article_66)\n",
        "file.close()"
      ],
      "metadata": {
        "id": "TSYtADKe2n6H"
      },
      "execution_count": null,
      "outputs": []
    },
    {
      "cell_type": "markdown",
      "source": [
        "# URL_102"
      ],
      "metadata": {
        "id": "I-16d1gzXG-L"
      }
    },
    {
      "cell_type": "code",
      "source": [
        "r = urllib.request.urlopen('https://insights.blackcoffer.com/gaming-disorder-and-effects-of-gaming-on-health/').read()\n",
        "soup = BeautifulSoup(r, \"lxml\")\n",
        "type(soup)\n",
        "my_article_67=soup.article.get_text()\n",
        "file = open ('URL_102.txt','w')\n",
        "file.write(my_article_67)\n",
        "file.close()"
      ],
      "metadata": {
        "id": "ER5AkN1n2n15"
      },
      "execution_count": null,
      "outputs": []
    },
    {
      "cell_type": "markdown",
      "source": [
        "# URL_103"
      ],
      "metadata": {
        "id": "wlcsoZoOXIL6"
      }
    },
    {
      "cell_type": "code",
      "source": [
        "r = urllib.request.urlopen('https://insights.blackcoffer.com/what-is-the-repercussion-of-the-environment-due-to-the-covid-19-pandemic-situation/').read()\n",
        "soup = BeautifulSoup(r, \"lxml\")\n",
        "type(soup)\n",
        "my_article_68=soup.article.get_text()\n",
        "file = open ('URL_103.txt','w')\n",
        "file.write(my_article_68)\n",
        "file.close()"
      ],
      "metadata": {
        "id": "yvrxHf4NZLlZ"
      },
      "execution_count": null,
      "outputs": []
    },
    {
      "cell_type": "markdown",
      "source": [
        "# URL_104"
      ],
      "metadata": {
        "id": "0QGMesV_XJC2"
      }
    },
    {
      "cell_type": "code",
      "source": [
        "r = urllib.request.urlopen('https://insights.blackcoffer.com/what-is-the-repercussion-of-the-environment-due-to-the-covid-19-pandemic-situation-2/').read()\n",
        "soup = BeautifulSoup(r, \"lxml\")\n",
        "type(soup)\n",
        "my_article_69=soup.article.get_text()\n",
        "file = open ('URL_104.txt','w')\n",
        "file.write(my_article_69)\n",
        "file.close()"
      ],
      "metadata": {
        "id": "u50y8VQF2nxs"
      },
      "execution_count": null,
      "outputs": []
    },
    {
      "cell_type": "markdown",
      "source": [
        "# URL_105"
      ],
      "metadata": {
        "id": "VSE51sB1XK6p"
      }
    },
    {
      "cell_type": "code",
      "source": [
        "r = urllib.request.urlopen('https://insights.blackcoffer.com/impact-of-covid-19-pandemic-on-office-space-and-co-working-industries/').read()\n",
        "soup = BeautifulSoup(r, \"lxml\")\n",
        "type(soup)\n",
        "my_article_70=soup.article.get_text()\n",
        "file = open ('URL_105.txt','w')\n",
        "file.write(my_article_70)\n",
        "file.close()"
      ],
      "metadata": {
        "id": "NBuJNq1D2nti"
      },
      "execution_count": null,
      "outputs": []
    },
    {
      "cell_type": "markdown",
      "source": [
        "# URL_106"
      ],
      "metadata": {
        "id": "Q9xfvE_3ZYuk"
      }
    },
    {
      "cell_type": "code",
      "source": [
        "r = urllib.request.urlopen('https://insights.blackcoffer.com/contribution-of-handicrafts-visual-arts-literature-in-the-indian-economy/').read()\n",
        "soup = BeautifulSoup(r, \"lxml\")\n",
        "type(soup)\n",
        "my_article_71=soup.article.get_text()\n",
        "file = open ('URL_106.txt','w')\n",
        "file.write(my_article_71)\n",
        "file.close()"
      ],
      "metadata": {
        "id": "8H7GJOUs2npW"
      },
      "execution_count": null,
      "outputs": []
    },
    {
      "cell_type": "markdown",
      "source": [
        "# URL_107"
      ],
      "metadata": {
        "id": "wNplFaggZaDO"
      }
    },
    {
      "cell_type": "code",
      "source": [
        "r = urllib.request.urlopen('https://insights.blackcoffer.com/how-covid-19-is-impacting-payment-preferences/').read()\n",
        "soup = BeautifulSoup(r, \"lxml\")\n",
        "type(soup)\n",
        "my_article_72=soup.article.get_text()\n",
        "file = open ('URL_107.txt','w')\n",
        "file.write(my_article_72)\n",
        "file.close()"
      ],
      "metadata": {
        "id": "oJVIXk7A2nlD"
      },
      "execution_count": null,
      "outputs": []
    },
    {
      "cell_type": "markdown",
      "source": [
        "# URL_108"
      ],
      "metadata": {
        "id": "BjXpWxduZbON"
      }
    },
    {
      "cell_type": "code",
      "source": [
        "r = urllib.request.urlopen('https://insights.blackcoffer.com/how-will-covid-19-affect-the-world-of-work-2/').read()\n",
        "soup = BeautifulSoup(r, \"lxml\")\n",
        "type(soup)\n",
        "my_article_73=soup.article.get_text()\n",
        "file = open ('URL_108.txt','w')\n",
        "file.write(my_article_73)\n",
        "file.close()"
      ],
      "metadata": {
        "id": "0c8-HQ3e2ngw"
      },
      "execution_count": null,
      "outputs": []
    },
    {
      "cell_type": "markdown",
      "source": [
        "# URL_109"
      ],
      "metadata": {
        "id": "ZrQHoLwSZckX"
      }
    },
    {
      "cell_type": "code",
      "source": [
        "r = urllib.request.urlopen('https://insights.blackcoffer.com/lessons-from-the-past-some-key-learnings-relevant-to-the-coronavirus-crisis/').read()\n",
        "soup = BeautifulSoup(r, \"lxml\")\n",
        "type(soup)\n",
        "my_article_74=soup.article.get_text()\n",
        "file = open ('URL_109.txt','w')\n",
        "file.write(my_article_74)\n",
        "file.close()"
      ],
      "metadata": {
        "id": "oMTvO5tb2nd9"
      },
      "execution_count": null,
      "outputs": []
    },
    {
      "cell_type": "markdown",
      "source": [
        "# URL_110"
      ],
      "metadata": {
        "id": "UmujNVxKZdyR"
      }
    },
    {
      "cell_type": "code",
      "source": [
        "r = urllib.request.urlopen('https://insights.blackcoffer.com/covid-19-how-have-countries-been-responding/').read()\n",
        "soup = BeautifulSoup(r, \"lxml\")\n",
        "type(soup)\n",
        "my_article_75=soup.article.get_text()\n",
        "file = open ('URL_110.txt','w')\n",
        "file.write(my_article_75)\n",
        "file.close()"
      ],
      "metadata": {
        "id": "6aUE2JaB2nbX"
      },
      "execution_count": null,
      "outputs": []
    },
    {
      "cell_type": "markdown",
      "source": [
        "# URL_111"
      ],
      "metadata": {
        "id": "1ulQSVlzZe8u"
      }
    },
    {
      "cell_type": "code",
      "source": [
        "r = urllib.request.urlopen('https://insights.blackcoffer.com/coronavirus-impact-on-the-hospitality-industry-2/').read()\n",
        "soup = BeautifulSoup(r, \"lxml\")\n",
        "type(soup)\n",
        "my_article_76=soup.article.get_text()\n",
        "file = open ('URL_111.txt','w')\n",
        "file.write(my_article_76)\n",
        "file.close()"
      ],
      "metadata": {
        "id": "t59kyQId2nYq"
      },
      "execution_count": null,
      "outputs": []
    },
    {
      "cell_type": "markdown",
      "source": [
        "# URL_112"
      ],
      "metadata": {
        "id": "BAS9amDqZjar"
      }
    },
    {
      "cell_type": "code",
      "source": [
        "r = urllib.request.urlopen('https://insights.blackcoffer.com/how-will-covid-19-affect-the-world-of-work-3/').read()\n",
        "soup = BeautifulSoup(r, \"lxml\")\n",
        "type(soup)\n",
        "my_article_77=soup.article.get_text()\n",
        "file = open ('URL_112.txt','w')\n",
        "file.write(my_article_77)\n",
        "file.close()"
      ],
      "metadata": {
        "id": "VflKTwIu2nV7"
      },
      "execution_count": null,
      "outputs": []
    },
    {
      "cell_type": "markdown",
      "source": [
        "# URL_113"
      ],
      "metadata": {
        "id": "xAb80QY5ZkZu"
      }
    },
    {
      "cell_type": "code",
      "source": [
        "r = urllib.request.urlopen('https://insights.blackcoffer.com/coronavirus-impact-on-the-hospitality-industry-3/').read()\n",
        "soup = BeautifulSoup(r, \"lxml\")\n",
        "type(soup)\n",
        "my_article_78=soup.article.get_text()\n",
        "file = open ('URL_113.txt','w')\n",
        "file.write(my_article_78)\n",
        "file.close()"
      ],
      "metadata": {
        "id": "aR0t352A2nTW"
      },
      "execution_count": null,
      "outputs": []
    },
    {
      "cell_type": "markdown",
      "source": [
        "# URL_114"
      ],
      "metadata": {
        "id": "6J1Gh_ZgZoS7"
      }
    },
    {
      "cell_type": "code",
      "source": [
        "r = urllib.request.urlopen('https://insights.blackcoffer.com/estimating-the-impact-of-covid-19-on-the-world-of-work/').read()\n",
        "soup = BeautifulSoup(r, \"lxml\")\n",
        "type(soup)\n",
        "my_article_79=soup.article.get_text()\n",
        "file = open ('URL_114.txt','w')\n",
        "file.write(my_article_79)\n",
        "file.close()"
      ],
      "metadata": {
        "id": "pUDaaCmF2nQp"
      },
      "execution_count": null,
      "outputs": []
    },
    {
      "cell_type": "markdown",
      "source": [
        "# URL_115"
      ],
      "metadata": {
        "id": "9rdL2Vk-ZqAk"
      }
    },
    {
      "cell_type": "code",
      "source": [
        "r = urllib.request.urlopen('https://insights.blackcoffer.com/covid-19-how-have-countries-been-responding-2/').read()\n",
        "soup = BeautifulSoup(r, \"lxml\")\n",
        "type(soup)\n",
        "my_article_80=soup.article.get_text()\n",
        "file = open ('URL_115.txt','w')\n",
        "file.write(my_article_80)\n",
        "file.close()"
      ],
      "metadata": {
        "id": "-OsNpKFQ2nNv"
      },
      "execution_count": null,
      "outputs": []
    },
    {
      "cell_type": "markdown",
      "source": [
        "# URL_116"
      ],
      "metadata": {
        "id": "GI-LVAXkZrnK"
      }
    },
    {
      "cell_type": "code",
      "source": [
        "r = urllib.request.urlopen('https://insights.blackcoffer.com/how-will-covid-19-affect-the-world-of-work-4/').read()\n",
        "soup = BeautifulSoup(r, \"lxml\")\n",
        "type(soup)\n",
        "my_article_81=soup.article.get_text()\n",
        "file = open ('URL_116.txt','w')\n",
        "file.write(my_article_81)\n",
        "file.close()"
      ],
      "metadata": {
        "id": "aPlvu08R2nKJ"
      },
      "execution_count": null,
      "outputs": []
    },
    {
      "cell_type": "markdown",
      "source": [
        "# URL_117"
      ],
      "metadata": {
        "id": "ldyZIUTEZtZw"
      }
    },
    {
      "cell_type": "code",
      "source": [
        "r = urllib.request.urlopen('https://insights.blackcoffer.com/lessons-from-the-past-some-key-learnings-relevant-to-the-coronavirus-crisis-2/').read()\n",
        "soup = BeautifulSoup(r, \"lxml\")\n",
        "type(soup)\n",
        "my_article_82=soup.article.get_text()\n",
        "file = open ('URL_117.txt','w')\n",
        "file.write(my_article_82)\n",
        "file.close()"
      ],
      "metadata": {
        "id": "k0wQG3J32nHj"
      },
      "execution_count": null,
      "outputs": []
    },
    {
      "cell_type": "markdown",
      "source": [
        "# URL_118"
      ],
      "metadata": {
        "id": "EW-hZU8xZuva"
      }
    },
    {
      "cell_type": "code",
      "source": [
        "r = urllib.request.urlopen('https://insights.blackcoffer.com/lessons-from-the-past-some-key-learnings-relevant-to-the-coronavirus-crisis-3/').read()\n",
        "soup = BeautifulSoup(r, \"lxml\")\n",
        "type(soup)\n",
        "my_article_83=soup.article.get_text()\n",
        "file = open ('URL_118.txt','w')\n",
        "file.write(my_article_83)\n",
        "file.close()"
      ],
      "metadata": {
        "id": "aDUCYNJoa19w"
      },
      "execution_count": null,
      "outputs": []
    },
    {
      "cell_type": "markdown",
      "source": [
        "# URL_119"
      ],
      "metadata": {
        "id": "t0EcP1HRbKKs"
      }
    },
    {
      "cell_type": "code",
      "source": [
        "r = urllib.request.urlopen('https://insights.blackcoffer.com/coronavirus-impact-on-the-hospitality-industry-4/').read()\n",
        "soup = BeautifulSoup(r, \"lxml\")\n",
        "type(soup)\n",
        "my_article_84=soup.article.get_text()\n",
        "file = open ('URL_119.txt','w')\n",
        "file.write(my_article_84)\n",
        "file.close()"
      ],
      "metadata": {
        "id": "KGY0EGNBb0n3"
      },
      "execution_count": null,
      "outputs": []
    },
    {
      "cell_type": "markdown",
      "source": [
        "# URL_120"
      ],
      "metadata": {
        "id": "zWHkhOdNbLJv"
      }
    },
    {
      "cell_type": "code",
      "source": [
        "r = urllib.request.urlopen('https://insights.blackcoffer.com/why-scams-like-nirav-modi-happen-with-indian-banks/').read()\n",
        "soup = BeautifulSoup(r, \"lxml\")\n",
        "type(soup)\n",
        "my_article_85=soup.article.get_text()\n",
        "file = open ('URL_120.txt','w')\n",
        "file.write(my_article_85)\n",
        "file.close()"
      ],
      "metadata": {
        "id": "Tagm_yRSb1YE"
      },
      "execution_count": null,
      "outputs": []
    },
    {
      "cell_type": "markdown",
      "source": [
        "# URL_121"
      ],
      "metadata": {
        "id": "JeJOpopVbStj"
      }
    },
    {
      "cell_type": "code",
      "source": [
        "r = urllib.request.urlopen('https://insights.blackcoffer.com/impact-of-covid-19-on-the-global-economy/').read()\n",
        "soup = BeautifulSoup(r, \"lxml\")\n",
        "type(soup)\n",
        "my_article_86=soup.article.get_text()\n",
        "file = open ('URL_121.txt','w')\n",
        "file.write(my_article_86)\n",
        "file.close()"
      ],
      "metadata": {
        "id": "_JnlQyl2b130"
      },
      "execution_count": null,
      "outputs": []
    },
    {
      "cell_type": "markdown",
      "source": [
        "# URL_122"
      ],
      "metadata": {
        "id": "vBXLE7LBbUVd"
      }
    },
    {
      "cell_type": "code",
      "source": [
        "r = urllib.request.urlopen('https://insights.blackcoffer.com/impact-of-covid-19coronavirus-on-the-indian-economy-2/').read()\n",
        "soup = BeautifulSoup(r, \"lxml\")\n",
        "type(soup)\n",
        "my_article_87=soup.article.get_text()\n",
        "file = open ('URL_122.txt','w')\n",
        "file.write(my_article_87)\n",
        "file.close()"
      ],
      "metadata": {
        "id": "Ms0cAvBQcNzF"
      },
      "execution_count": null,
      "outputs": []
    },
    {
      "cell_type": "markdown",
      "source": [
        "# URL_123"
      ],
      "metadata": {
        "id": "k_L26-x6bUsp"
      }
    },
    {
      "cell_type": "code",
      "source": [
        "r = urllib.request.urlopen('https://insights.blackcoffer.com/impact-of-covid-19-on-the-global-economy-2/').read()\n",
        "soup = BeautifulSoup(r, \"lxml\")\n",
        "type(soup)\n",
        "my_article_88=soup.article.get_text()\n",
        "file = open ('URL_123.txt','w')\n",
        "file.write(my_article_88)\n",
        "file.close()"
      ],
      "metadata": {
        "id": "CBjqkCcocOpx"
      },
      "execution_count": null,
      "outputs": []
    },
    {
      "cell_type": "markdown",
      "source": [
        "# URL_124"
      ],
      "metadata": {
        "id": "n9F43sybbWVe"
      }
    },
    {
      "cell_type": "code",
      "source": [
        "r = urllib.request.urlopen('https://insights.blackcoffer.com/impact-of-covid-19-coronavirus-on-the-indian-economy-3/').read()\n",
        "soup = BeautifulSoup(r, \"lxml\")\n",
        "type(soup)\n",
        "my_article_89=soup.article.get_text()\n",
        "file = open ('URL_124.txt','w')\n",
        "file.write(my_article_89)\n",
        "file.close()"
      ],
      "metadata": {
        "id": "n3apbwBzcPp0"
      },
      "execution_count": null,
      "outputs": []
    },
    {
      "cell_type": "markdown",
      "source": [
        "# URL_125"
      ],
      "metadata": {
        "id": "1spJxSHWbWSI"
      }
    },
    {
      "cell_type": "code",
      "source": [
        "r = urllib.request.urlopen('https://insights.blackcoffer.com/should-celebrities-be-allowed-to-join-politics/').read()\n",
        "soup = BeautifulSoup(r, \"lxml\")\n",
        "type(soup)\n",
        "my_article_90=soup.article.get_text()\n",
        "file = open ('URL_125.txt','w')\n",
        "file.write(my_article_90)\n",
        "file.close()"
      ],
      "metadata": {
        "id": "OrkllsdTcQKp"
      },
      "execution_count": null,
      "outputs": []
    },
    {
      "cell_type": "markdown",
      "source": [
        "# URL_126"
      ],
      "metadata": {
        "id": "mJjgl69xbWP0"
      }
    },
    {
      "cell_type": "code",
      "source": [
        "r = urllib.request.urlopen('https://insights.blackcoffer.com/how-prepared-is-india-to-tackle-a-possible-covid-19-outbreak/').read()\n",
        "soup = BeautifulSoup(r, \"lxml\")\n",
        "type(soup)\n",
        "my_article_91=soup.article.get_text()\n",
        "file = open ('URL_126.txt','w')\n",
        "file.write(my_article_91)\n",
        "file.close()"
      ],
      "metadata": {
        "id": "N8rQMvKCcQ1H"
      },
      "execution_count": null,
      "outputs": []
    },
    {
      "cell_type": "markdown",
      "source": [
        "# URL_127"
      ],
      "metadata": {
        "id": "HgU-cOShbWNh"
      }
    },
    {
      "cell_type": "code",
      "source": [
        "r = urllib.request.urlopen('https://insights.blackcoffer.com/how-will-covid-19-affect-the-world-of-work/').read()\n",
        "soup = BeautifulSoup(r, \"lxml\")\n",
        "type(soup)\n",
        "my_article_92=soup.article.get_text()\n",
        "file = open ('URL_127.txt','w')\n",
        "file.write(my_article_92)\n",
        "file.close()"
      ],
      "metadata": {
        "id": "7D29Wdz1cRcI"
      },
      "execution_count": null,
      "outputs": []
    },
    {
      "cell_type": "markdown",
      "source": [
        "# URL_128"
      ],
      "metadata": {
        "id": "YcRobAtQbWLP"
      }
    },
    {
      "cell_type": "code",
      "source": [
        "r = urllib.request.urlopen('https://insights.blackcoffer.com/controversy-as-a-marketing-strategy/').read()\n",
        "soup = BeautifulSoup(r, \"lxml\")\n",
        "type(soup)\n",
        "my_article_93=soup.article.get_text()\n",
        "file = open ('URL_128.txt','w')\n",
        "file.write(my_article_93)\n",
        "file.close()"
      ],
      "metadata": {
        "id": "nktt3HQlcSFj"
      },
      "execution_count": null,
      "outputs": []
    },
    {
      "cell_type": "markdown",
      "source": [
        "# URL_129"
      ],
      "metadata": {
        "id": "t965ar5BbWJE"
      }
    },
    {
      "cell_type": "code",
      "source": [
        "r = urllib.request.urlopen('https://insights.blackcoffer.com/coronavirus-impact-on-the-hospitality-industry/').read()\n",
        "soup = BeautifulSoup(r, \"lxml\")\n",
        "type(soup)\n",
        "my_article_94=soup.article.get_text()\n",
        "file = open ('URL_129.txt','w')\n",
        "file.write(my_article_94)\n",
        "file.close()"
      ],
      "metadata": {
        "id": "kANnsasOcSr3"
      },
      "execution_count": null,
      "outputs": []
    },
    {
      "cell_type": "markdown",
      "source": [
        "# URL_130"
      ],
      "metadata": {
        "id": "jGzRyPUHbWGe"
      }
    },
    {
      "cell_type": "code",
      "source": [
        "r = urllib.request.urlopen('https://insights.blackcoffer.com/coronavirus-impact-on-energy-markets/').read()\n",
        "soup = BeautifulSoup(r, \"lxml\")\n",
        "type(soup)\n",
        "my_article_95=soup.article.get_text()\n",
        "file = open ('URL_130.txt','w')\n",
        "file.write(my_article_95)\n",
        "file.close()"
      ],
      "metadata": {
        "id": "Gb9ScFhncTYJ"
      },
      "execution_count": null,
      "outputs": []
    },
    {
      "cell_type": "markdown",
      "source": [
        "# URL_131"
      ],
      "metadata": {
        "id": "UBPMKwlubWEY"
      }
    },
    {
      "cell_type": "code",
      "source": [
        "r = urllib.request.urlopen('https://insights.blackcoffer.com/what-are-the-key-policies-that-will-mitigate-the-impacts-of-covid-19-on-the-world-of-work/').read()\n",
        "soup = BeautifulSoup(r, \"lxml\")\n",
        "type(soup)\n",
        "my_article_96=soup.article.get_text()\n",
        "file = open ('URL_131.txt','w')\n",
        "file.write(my_article_96)\n",
        "file.close()"
      ],
      "metadata": {
        "id": "Z85LwWK3cTsZ"
      },
      "execution_count": null,
      "outputs": []
    },
    {
      "cell_type": "markdown",
      "source": [
        "# URL_132"
      ],
      "metadata": {
        "id": "ikhvg30CbWBy"
      }
    },
    {
      "cell_type": "code",
      "source": [
        "r = urllib.request.urlopen('https://insights.blackcoffer.com/marketing-drives-results-with-a-focus-on-problems/').read()\n",
        "soup = BeautifulSoup(r, \"lxml\")\n",
        "type(soup)\n",
        "my_article_97=soup.article.get_text()\n",
        "file = open ('URL_132.txt','w')\n",
        "file.write(my_article_97)\n",
        "file.close()"
      ],
      "metadata": {
        "id": "FlnsvA9-dP-F"
      },
      "execution_count": null,
      "outputs": []
    },
    {
      "cell_type": "markdown",
      "source": [
        "# URL_133"
      ],
      "metadata": {
        "id": "qhLbKJyRbV_M"
      }
    },
    {
      "cell_type": "code",
      "source": [
        "r = urllib.request.urlopen('https://insights.blackcoffer.com/continued-demand-for-sustainability/').read()\n",
        "soup = BeautifulSoup(r, \"lxml\")\n",
        "type(soup)\n",
        "my_article_98=soup.article.get_text()\n",
        "file = open ('URL_133.txt','w')\n",
        "file.write(my_article_98)\n",
        "file.close()"
      ],
      "metadata": {
        "id": "i0qiLo-kcVcJ"
      },
      "execution_count": null,
      "outputs": []
    },
    {
      "cell_type": "markdown",
      "source": [
        "# URL_134"
      ],
      "metadata": {
        "id": "vmgQxOz1bV8k"
      }
    },
    {
      "cell_type": "code",
      "source": [
        "r = urllib.request.urlopen('https://insights.blackcoffer.com/coronavirus-disease-covid-19-effect-the-impact-and-role-of-mass-media-during-the-pandemic/').read()\n",
        "soup = BeautifulSoup(r, \"lxml\")\n",
        "type(soup)\n",
        "my_article_99=soup.article.get_text()\n",
        "file = open ('URL_134.txt','w')\n",
        "file.write(my_article_99)\n",
        "file.close()"
      ],
      "metadata": {
        "id": "-Yn8clv2cWEy"
      },
      "execution_count": null,
      "outputs": []
    },
    {
      "cell_type": "markdown",
      "source": [
        "# URL_135"
      ],
      "metadata": {
        "id": "xtCqrS4bbV6Q"
      }
    },
    {
      "cell_type": "code",
      "source": [
        "r = urllib.request.urlopen('https://insights.blackcoffer.com/should-people-wear-fabric-gloves-seeking-evidence-regarding-the-differential-transfer-of-covid-19-or-coronaviruses-generally-between-surfaces/').read()\n",
        "soup = BeautifulSoup(r, \"lxml\")\n",
        "type(soup)\n",
        "my_article_100=soup.article.get_text()\n",
        "file = open ('URL_135.txt','w')\n",
        "file.write(my_article_100)\n",
        "file.close()"
      ],
      "metadata": {
        "id": "NJIbQ5socY3J"
      },
      "execution_count": null,
      "outputs": []
    },
    {
      "cell_type": "markdown",
      "source": [
        "# URL_136"
      ],
      "metadata": {
        "id": "yeDJZFbLbV4J"
      }
    },
    {
      "cell_type": "code",
      "source": [
        "r = urllib.request.urlopen('https://insights.blackcoffer.com/why-is-there-a-severe-immunological-and-inflammatory-explosion-in-those-affected-by-sarms-covid-19/').read()\n",
        "soup = BeautifulSoup(r, \"lxml\")\n",
        "type(soup)\n",
        "my_article_101=soup.article.get_text()\n",
        "file = open ('URL_136.txt','w')\n",
        "file.write(my_article_101)\n",
        "file.close()"
      ],
      "metadata": {
        "id": "fdqPsd3pcYVD"
      },
      "execution_count": null,
      "outputs": []
    },
    {
      "cell_type": "markdown",
      "source": [
        "# URL_137"
      ],
      "metadata": {
        "id": "SBwLDn8RbV2D"
      }
    },
    {
      "cell_type": "code",
      "source": [
        "r = urllib.request.urlopen('https://insights.blackcoffer.com/what-do-you-think-is-the-lesson-or-lessons-to-be-learned-with-covid-19/').read()\n",
        "soup = BeautifulSoup(r, \"lxml\")\n",
        "type(soup)\n",
        "my_article_102=soup.article.get_text()\n",
        "file = open ('URL_137.txt','w')\n",
        "file.write(my_article_102)\n",
        "file.close()"
      ],
      "metadata": {
        "id": "ScRt9pWncZSO"
      },
      "execution_count": null,
      "outputs": []
    },
    {
      "cell_type": "markdown",
      "source": [
        "# URL_138\n"
      ],
      "metadata": {
        "id": "N2vHkCPKbV0E"
      }
    },
    {
      "cell_type": "code",
      "source": [
        "r = urllib.request.urlopen('https://insights.blackcoffer.com/coronavirus-the-unexpected-challenge-for-the-european-union/').read()\n",
        "soup = BeautifulSoup(r, \"lxml\")\n",
        "type(soup)\n",
        "my_article_103=soup.article.get_text()\n",
        "file = open ('URL_138.txt','w')\n",
        "file.write(my_article_103)\n",
        "file.close()"
      ],
      "metadata": {
        "id": "0f4UdRDOcZwr"
      },
      "execution_count": null,
      "outputs": []
    },
    {
      "cell_type": "markdown",
      "source": [
        "# URL_139\n"
      ],
      "metadata": {
        "id": "MbukSHoYbVx2"
      }
    },
    {
      "cell_type": "code",
      "source": [
        "r = urllib.request.urlopen('https://insights.blackcoffer.com/industrial-revolution-4-0-pros-and-cons/').read()\n",
        "soup = BeautifulSoup(r, \"lxml\")\n",
        "type(soup)\n",
        "my_article_104=soup.article.get_text()\n",
        "file = open ('URL_139.txt','w')\n",
        "file.write(my_article_104)\n",
        "file.close()"
      ],
      "metadata": {
        "id": "VueNXN53caUZ"
      },
      "execution_count": null,
      "outputs": []
    },
    {
      "cell_type": "markdown",
      "source": [
        "# URL_140\n"
      ],
      "metadata": {
        "id": "F6q69PWCbVte"
      }
    },
    {
      "cell_type": "code",
      "source": [
        "r = urllib.request.urlopen('https://insights.blackcoffer.com/impact-of-covid-19-coronavirus-on-the-indian-economy/').read()\n",
        "soup = BeautifulSoup(r, \"lxml\")\n",
        "type(soup)\n",
        "my_article_105=soup.article.get_text()\n",
        "file = open ('URL_140.txt','w')\n",
        "file.write(my_article_105)\n",
        "file.close()"
      ],
      "metadata": {
        "id": "nhAsJeAucatI"
      },
      "execution_count": null,
      "outputs": []
    },
    {
      "cell_type": "markdown",
      "source": [
        "# URL_141"
      ],
      "metadata": {
        "id": "71mVaFRxbVqF"
      }
    },
    {
      "cell_type": "code",
      "source": [
        "r = urllib.request.urlopen('https://insights.blackcoffer.com/impact-of-covid-19-coronavirus-on-the-indian-economy-2/').read()\n",
        "soup = BeautifulSoup(r, \"lxml\")\n",
        "type(soup)\n",
        "my_article_106=soup.article.get_text()\n",
        "file = open ('URL_141.txt','w')\n",
        "file.write(my_article_106)\n",
        "file.close()"
      ],
      "metadata": {
        "id": "W3MEjbfzf-Xk"
      },
      "execution_count": null,
      "outputs": []
    },
    {
      "cell_type": "markdown",
      "source": [
        "# URL_142"
      ],
      "metadata": {
        "id": "FqH6HN-1bVmO"
      }
    },
    {
      "cell_type": "code",
      "source": [
        "r = urllib.request.urlopen('https://insights.blackcoffer.com/impact-of-covid-19coronavirus-on-the-indian-economy/').read()\n",
        "soup = BeautifulSoup(r, \"lxml\")\n",
        "type(soup)\n",
        "my_article_107=soup.article.get_text()\n",
        "file = open ('URL_142.txt','w')\n",
        "file.write(my_article_107)\n",
        "file.close()"
      ],
      "metadata": {
        "id": "3hIgy0Waf-2z"
      },
      "execution_count": null,
      "outputs": []
    },
    {
      "cell_type": "markdown",
      "source": [
        "# URL_143"
      ],
      "metadata": {
        "id": "sBPakRB4bVJR"
      }
    },
    {
      "cell_type": "code",
      "source": [
        "r = urllib.request.urlopen('https://insights.blackcoffer.com/impact-of-covid-19-coronavirus-on-the-global-economy/').read()\n",
        "soup = BeautifulSoup(r, \"lxml\")\n",
        "type(soup)\n",
        "my_article_108=soup.article.get_text()\n",
        "file = open ('URL_143.txt','w')\n",
        "file.write(my_article_108)\n",
        "file.close()"
      ],
      "metadata": {
        "id": "MdBcu031f_by"
      },
      "execution_count": null,
      "outputs": []
    },
    {
      "cell_type": "markdown",
      "source": [
        "# URL_144"
      ],
      "metadata": {
        "id": "RMkunzFqfqYq"
      }
    },
    {
      "cell_type": "markdown",
      "source": [
        "# URL_145"
      ],
      "metadata": {
        "id": "rrqQF1chfsMS"
      }
    },
    {
      "cell_type": "code",
      "source": [
        "r = urllib.request.urlopen('https://insights.blackcoffer.com/blockchain-in-fintech/').read()\n",
        "soup = BeautifulSoup(r, \"lxml\")\n",
        "type(soup)\n",
        "my_article_110=soup.article.get_text()\n",
        "file = open ('URL_145.txt','w')\n",
        "file.write(my_article_110)\n",
        "file.close()"
      ],
      "metadata": {
        "id": "M1VIioOlgAoF"
      },
      "execution_count": null,
      "outputs": []
    },
    {
      "cell_type": "markdown",
      "source": [
        "# URL_146"
      ],
      "metadata": {
        "id": "y149Deu0ftkD"
      }
    },
    {
      "cell_type": "code",
      "source": [
        "r = urllib.request.urlopen('https://insights.blackcoffer.com/blockchain-for-payments/').read()\n",
        "soup = BeautifulSoup(r, \"lxml\")\n",
        "type(soup)\n",
        "my_article_111=soup.article.get_text()\n",
        "file = open ('URL_146.txt','w')\n",
        "file.write(my_article_111)\n",
        "file.close()"
      ],
      "metadata": {
        "id": "yXK-3xctgBa5"
      },
      "execution_count": null,
      "outputs": []
    },
    {
      "cell_type": "markdown",
      "source": [
        "# URL_147"
      ],
      "metadata": {
        "id": "f7iu4uWqg1Dh"
      }
    },
    {
      "cell_type": "code",
      "source": [
        "r = urllib.request.urlopen('https://insights.blackcoffer.com/the-future-of-investing/').read()\n",
        "soup = BeautifulSoup(r, \"lxml\")\n",
        "type(soup)\n",
        "my_article_112=soup.article.get_text()\n",
        "file = open ('URL_147.txt','w')\n",
        "file.write(my_article_112)\n",
        "file.close()"
      ],
      "metadata": {
        "id": "MCbHHWWMg6r_"
      },
      "execution_count": null,
      "outputs": []
    },
    {
      "cell_type": "markdown",
      "source": [
        "# URL_148"
      ],
      "metadata": {
        "id": "LI9O7LOSf39s"
      }
    },
    {
      "cell_type": "code",
      "source": [
        "r = urllib.request.urlopen('https://insights.blackcoffer.com/big-data-analytics-in-healthcare/').read()\n",
        "soup = BeautifulSoup(r, \"lxml\")\n",
        "type(soup)\n",
        "my_article_113=soup.article.get_text()\n",
        "file = open ('URL_148.txt','w')\n",
        "file.write(my_article_113)\n",
        "file.close()"
      ],
      "metadata": {
        "id": "u0K4OVMtgCET"
      },
      "execution_count": null,
      "outputs": []
    },
    {
      "cell_type": "markdown",
      "source": [
        "# URL_149"
      ],
      "metadata": {
        "id": "KWpASPHNf6sK"
      }
    },
    {
      "cell_type": "code",
      "source": [
        "r = urllib.request.urlopen('https://insights.blackcoffer.com/business-analytics-in-the-healthcare-industry/').read()\n",
        "soup = BeautifulSoup(r, \"lxml\")\n",
        "type(soup)\n",
        "my_article_114=soup.article.get_text()\n",
        "file = open ('URL_149.txt','w')\n",
        "file.write(my_article_114)\n",
        "file.close()"
      ],
      "metadata": {
        "id": "jFCkaqtEgDFI"
      },
      "execution_count": null,
      "outputs": []
    },
    {
      "cell_type": "markdown",
      "source": [
        "# URL_150"
      ],
      "metadata": {
        "id": "orYONiM-f8_R"
      }
    },
    {
      "cell_type": "code",
      "source": [
        "r = urllib.request.urlopen('https://insights.blackcoffer.com/challenges-and-opportunities-of-big-data-in-healthcare/').read()\n",
        "soup = BeautifulSoup(r, \"lxml\")\n",
        "type(soup)\n",
        "my_article_115=soup.article.get_text()\n",
        "file = open ('URL_150.txt','w')\n",
        "file.write(my_article_115)\n",
        "file.close()"
      ],
      "metadata": {
        "id": "I1Od1F56gCzr"
      },
      "execution_count": null,
      "outputs": []
    }
  ]
}