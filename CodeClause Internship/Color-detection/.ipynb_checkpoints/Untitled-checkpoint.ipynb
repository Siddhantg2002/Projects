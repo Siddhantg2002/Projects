{
 "cells": [
  {
   "cell_type": "code",
   "execution_count": null,
   "id": "6f89a063",
   "metadata": {},
   "outputs": [],
   "source": [
    "import cv2\n",
    "import pandas as pd"
   ]
  },
  {
   "cell_type": "code",
   "execution_count": null,
   "id": "cbda672b",
   "metadata": {},
   "outputs": [],
   "source": [
    "img_path = \"/Users/siddhantgupta/Desktop/SID/python-project-color-detection/colorpic.jpg\"\n",
    "img = cv2.imread(img_path)"
   ]
  },
  {
   "cell_type": "code",
   "execution_count": null,
   "id": "48ced465",
   "metadata": {},
   "outputs": [],
   "source": [
    "index=[\"color\",\"color_name\",\"hex\",\"R\",\"G\",\"B\"]\n",
    "csv = pd.read_csv('/Users/siddhantgupta/Desktop/SID/python-project-color-detection/colors.csv', names=index, header=None)"
   ]
  },
  {
   "cell_type": "code",
   "execution_count": null,
   "id": "fafce65d",
   "metadata": {},
   "outputs": [],
   "source": [
    "def getColorName(R,G,B):\n",
    "    minimum = 1000\n",
    "    for i in range(len(csv)):\n",
    "        d = abs(R- int(csv.loc[i,\"R\"])) + abs(G- int(csv.loc[i,\"G\"]))+ abs(B- int(csv.loc[i,\"B\"]))\n",
    "        if(d<minimum):\n",
    "            minimum = d\n",
    "            color_name = csv.loc[i,\"color_name\"]\n",
    "    return color_name"
   ]
  },
  {
   "cell_type": "code",
   "execution_count": null,
   "id": "5d6246da",
   "metadata": {},
   "outputs": [],
   "source": [
    "clicked = False\n",
    "r = g = b = xpos = ypos = 0"
   ]
  },
  {
   "cell_type": "code",
   "execution_count": null,
   "id": "5f974819",
   "metadata": {},
   "outputs": [],
   "source": [
    "def draw_function(event, x,y,flags,param):\n",
    "    if event == cv2.EVENT_LBUTTONDBLCLK:\n",
    "        global b,g,r,xpos,ypos, clicked\n",
    "        clicked = True\n",
    "        xpos = x\n",
    "        ypos = y\n",
    "        b,g,r = img[y,x]\n",
    "        b = int(b)\n",
    "        g = int(g)\n",
    "        r = int(r)"
   ]
  },
  {
   "cell_type": "code",
   "execution_count": null,
   "id": "5e82270c",
   "metadata": {},
   "outputs": [],
   "source": [
    "cv2.namedWindow('color detection')\n",
    "cv2.setMouseCallback('color detection',draw_function)"
   ]
  },
  {
   "cell_type": "code",
   "execution_count": null,
   "id": "43068cc5",
   "metadata": {},
   "outputs": [],
   "source": [
    "while(1):\n",
    "    \n",
    "    cv2.imshow(\"color detection\",img)\n",
    "    if (clicked):\n",
    "        #cv2.rectangle(image, startpoint, endpoint, color, thickness)-1 fills entire rectangle \n",
    "        cv2.rectangle(img,(20,20), (750,60), (b,g,r), -1)\n",
    "        color_name = getColorName(r,g,b) + ' R='+ str(r) +  ' G='+ str(g) +  ' B='+ str(b)\n",
    "        #cv2.putText(img,text,start,font(0-7),fontScale,color,thickness,lineType )\n",
    "        cv2.putText(img, color_name,(50,50),2,0.8,(255,255,255),2,cv2.LINE_AA)\n",
    "        #For very light colours we will display text in black colour\n",
    "        if(r+g+b>=600):\n",
    "            cv2.putText(img, color_name,(50,50),2,0.8,(0,0,0),2,cv2.LINE_AA)\n",
    "            \n",
    "        clicked=False\n",
    "    #when user hit esc\n",
    "    if cv2.waitKey(20) & 0xFF ==27:\n",
    "        break\n",
    "    \n",
    "cv2.destroyAllWindows()"
   ]
  },
  {
   "cell_type": "code",
   "execution_count": null,
   "id": "be203434",
   "metadata": {},
   "outputs": [],
   "source": [
    "import numpy as np\n",
    "hsv = cv2.cvtColor(img, cv2.COLOR_BGR2HSV)\n",
    "color = np.uint8([[[b,g,r]]])\n",
    "hsv_color = cv2.cvtColor(color,cv2.COLOR_BGR2HSV)\n",
    "lower_range = np.array([hsv_color[0][0][0] - 10,100,100])\n",
    "upper_range = np.array([hsv_color[0][0][0] + 10,255,255])\n",
    "\n",
    "mask = cv2.inRange(hsv, lower_range, upper_range)\n",
    "\n",
    "cv2.imshow('mask', mask)\n",
    "cv2.waitKey(0)\n",
    "cv2.destroyAllWindows()"
   ]
  },
  {
   "cell_type": "code",
   "execution_count": null,
   "id": "ada9e971",
   "metadata": {},
   "outputs": [],
   "source": []
  }
 ],
 "metadata": {
  "kernelspec": {
   "display_name": "Python 3 (ipykernel)",
   "language": "python",
   "name": "python3"
  },
  "language_info": {
   "codemirror_mode": {
    "name": "ipython",
    "version": 3
   },
   "file_extension": ".py",
   "mimetype": "text/x-python",
   "name": "python",
   "nbconvert_exporter": "python",
   "pygments_lexer": "ipython3",
   "version": "3.10.8"
  }
 },
 "nbformat": 4,
 "nbformat_minor": 5
}
